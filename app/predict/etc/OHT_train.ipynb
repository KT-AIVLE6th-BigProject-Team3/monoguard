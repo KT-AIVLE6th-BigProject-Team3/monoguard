{
 "cells": [
  {
   "cell_type": "code",
   "execution_count": 46,
   "metadata": {},
   "outputs": [],
   "source": [
    "import torch\n",
    "import joblib\n",
    "import pandas\n",
    "import numpy as np\n",
    "from torch.utils.data import Dataset, DataLoader\n",
    "from sklearn.model_selection import train_test_split\n",
    "import torch\n",
    "import torch.nn as nn\n",
    "import torch.nn.functional as F"
   ]
  },
  {
   "cell_type": "code",
   "execution_count": 47,
   "metadata": {},
   "outputs": [
    {
     "name": "stdout",
     "output_type": "stream",
     "text": [
      "(41334, 12) (17715, 12) (41334,) (17715,)\n"
     ]
    },
    {
     "data": {
      "text/plain": [
       "state\n",
       "0    0.488532\n",
       "2    0.216142\n",
       "1    0.214763\n",
       "3    0.080563\n",
       "Name: proportion, dtype: float64"
      ]
     },
     "execution_count": 47,
     "metadata": {},
     "output_type": "execute_result"
    }
   ],
   "source": [
    "dataset = joblib.load('oht_dataframe.pkl')\n",
    "X,y = dataset.drop(columns='state'),dataset['state']\n",
    "X_train,X_test,y_train,y_test = train_test_split(X,y,test_size=0.3,shuffle=False)\n",
    "# X_test,y_test = X_test.reset_index(drop=True),y_test.reset_index(drop=True)\n",
    "print(X_train.shape,X_test.shape,y_train.shape,y_test.shape)\n",
    "y_train.value_counts(normalize=True)"
   ]
  },
  {
   "cell_type": "code",
   "execution_count": 48,
   "metadata": {},
   "outputs": [
    {
     "name": "stdout",
     "output_type": "stream",
     "text": [
      "41334\n",
      "torch.Size([1, 120, 160]) torch.Size([11]) 0\n",
      "17715\n",
      "torch.Size([1, 120, 160]) torch.Size([11]) 0\n"
     ]
    }
   ],
   "source": [
    "class MultimodalDataset(Dataset):\n",
    "    \"\"\"사용자 정의 멀티모달 데이터셋\"\"\"\n",
    "    def __init__(self,X:pandas.DataFrame,y:pandas.Series):\n",
    "        \"\"\"필요한 데이터를 이곳에서 선언\n",
    "        Parameter:\n",
    "        X: 열화상 이미지와 센서데이터의 데이터 프레임\n",
    "        y: 정답 데이터의\n",
    "        \"\"\"\n",
    "        self.X = X\n",
    "        self.y = y\n",
    "    def __getitem__(self, index):\n",
    "        \"\"\"열화상 이미지 [1,120,160]크기와 센서 데이터 11개의 칼럼 그리고 이에 해당하는 정답 데이터 반환\"\"\"\n",
    "        image = torch.tensor(np.load(self.X.iloc[index]['filenames']),dtype=torch.float32).unsqueeze(0)\n",
    "        sensor_features = self.X.drop(columns=['filenames'])\n",
    "        sensor_features = torch.tensor(sensor_features.iloc[index].values,dtype=torch.float32)\n",
    "        label = int(self.y.iloc[index]) # 나중에 학습하는데 있어서 느려지게하는 요인이면 데이터 프레임 자체에서 변경함함\n",
    "        return image, sensor_features, label\n",
    "    \n",
    "    def __len__(self):\n",
    "        return len(self.X)\n",
    "\n",
    "train_dataset = MultimodalDataset(X_train,y_train)\n",
    "test_dataset = MultimodalDataset(X_test,y_test)\n",
    "\n",
    "train_image,train_sensor_features,train_label = train_dataset[0]\n",
    "test_image,test_sensor_features,test_label = test_dataset[0]\n",
    "\n",
    "print(len(train_dataset))\n",
    "print(train_image.shape,train_sensor_features.shape,train_label)\n",
    "\n",
    "print(len(test_dataset))\n",
    "print(test_image.shape,test_sensor_features.shape,test_label)"
   ]
  },
  {
   "cell_type": "code",
   "execution_count": 49,
   "metadata": {},
   "outputs": [
    {
     "name": "stdout",
     "output_type": "stream",
     "text": [
      "2584 1108\n"
     ]
    }
   ],
   "source": [
    "train_dataloader = DataLoader(train_dataset,batch_size=16,shuffle=False)\n",
    "test_dataloader = DataLoader(test_dataset,batch_size=16,shuffle=False)\n",
    "print(len(train_dataloader),len(test_dataloader))"
   ]
  },
  {
   "cell_type": "code",
   "execution_count": 7,
   "metadata": {},
   "outputs": [],
   "source": [
    "class ViTFeatureExtractor(nn.Module):\n",
    "    def __init__(self, img_dim_h, img_dim_w, patch_size, embed_dim, num_heads, depth):\n",
    "        super().__init__()\n",
    "        # Transformer 설정\n",
    "        self.vit = nn.Transformer(\n",
    "            d_model=embed_dim,\n",
    "            nhead=num_heads,\n",
    "            num_encoder_layers=depth,\n",
    "            batch_first=True\n",
    "        )\n",
    "        # Patch embedding: 채널을 1로 설정\n",
    "        self.patch_embed = nn.Conv2d(1, embed_dim, kernel_size=patch_size, stride=patch_size)\n",
    "        # 포지셔널 임베딩\n",
    "        num_patches = (img_dim_h // patch_size) * (img_dim_w // patch_size)\n",
    "        self.pos_embedding = nn.Parameter(torch.randn(1, num_patches, embed_dim))\n",
    "\n",
    "    def forward(self, x):\n",
    "        # x: [batch_size, 1, img_dim_h, img_dim_w]\n",
    "        patches = self.patch_embed(x).flatten(2).transpose(1, 2)  # [batch_size, num_patches, embed_dim]\n",
    "        x = patches + self.pos_embedding  # Positional embedding 추가\n",
    "        x = self.vit(x, x)  # [batch_size, num_patches, embed_dim]\n",
    "        return x.mean(dim=1)  # [batch_size, embed_dim]\n",
    "\n",
    "class SoftLabelEncoder(nn.Module):\n",
    "    def __init__(self, aux_input_dim, embed_dim):\n",
    "        super().__init__()\n",
    "        self.fc = nn.Sequential(\n",
    "            nn.Linear(aux_input_dim, embed_dim),\n",
    "            nn.ReLU(),\n",
    "            nn.Linear(embed_dim, embed_dim)\n",
    "        )\n",
    "\n",
    "    def forward(self, aux_data):\n",
    "        return self.fc(aux_data)\n",
    "\n",
    "class CrossAttention(nn.Module):\n",
    "    def __init__(self, embed_dim, num_heads):\n",
    "        super().__init__()\n",
    "        self.attention = nn.MultiheadAttention(embed_dim, num_heads, batch_first=True)\n",
    "\n",
    "    def forward(self, query, key):\n",
    "        attn_output, _ = self.attention(query, key, key)\n",
    "        return attn_output\n",
    "\n",
    "class ConditionClassifier(nn.Module):\n",
    "    def __init__(self, img_dim_h,img_dim_w, patch_size, embed_dim, num_heads, depth, aux_input_dim, num_classes):\n",
    "        super().__init__()\n",
    "        self.vit = ViTFeatureExtractor(img_dim_h, img_dim_w, patch_size, embed_dim, num_heads, depth)\n",
    "        self.soft_label_encoder = SoftLabelEncoder(aux_input_dim, embed_dim)\n",
    "        self.cross_attention = CrossAttention(embed_dim, num_heads)\n",
    "        self.classifier = nn.Sequential(\n",
    "            nn.Linear(embed_dim, embed_dim),\n",
    "            nn.ReLU(),\n",
    "            nn.Linear(embed_dim, num_classes)\n",
    "        )\n",
    "\n",
    "    def forward(self, images, aux_data):\n",
    "        # Feature extraction\n",
    "        visual_features = self.vit(images)  # [batch_size, embed_dim]\n",
    "        aux_features = self.soft_label_encoder(aux_data)  # [batch_size, embed_dim]\n",
    "\n",
    "        # Cross attention\n",
    "        visual_features = visual_features.unsqueeze(1)  # [batch_size, 1, embed_dim]\n",
    "        aux_features = aux_features.unsqueeze(1)  # [batch_size, 1, embed_dim]\n",
    "        integrated_features = self.cross_attention(visual_features, aux_features).squeeze(1)\n",
    "\n",
    "        # Classification\n",
    "        output = self.classifier(integrated_features)  # [batch_size, num_classes]\n",
    "        return output\n",
    "    \n",
    "img_dim_h = 120  # 열화상 이미지 세로 크기\n",
    "img_dim_w = 160  # 열화상 이미지 가로 크기\n",
    "patch_size = 16\n",
    "embed_dim = 128\n",
    "num_heads = 4\n",
    "depth = 6\n",
    "aux_input_dim = 11  # 보조 데이터 차원 (예: 온도, 습도 등)\n",
    "num_classes = 4  # 0:정상,1:관심,2:주의,3:위험\n",
    "model = ConditionClassifier(img_dim_w, img_dim_h, patch_size, embed_dim, num_heads, depth, aux_input_dim, num_classes)"
   ]
  },
  {
   "cell_type": "code",
   "execution_count": 8,
   "metadata": {},
   "outputs": [
    {
     "name": "stderr",
     "output_type": "stream",
     "text": [
      "c:\\Users\\hyssk\\anaconda3\\envs\\pytorch_cuda_11_8\\lib\\site-packages\\tqdm\\auto.py:21: TqdmWarning: IProgress not found. Please update jupyter and ipywidgets. See https://ipywidgets.readthedocs.io/en/stable/user_install.html\n",
      "  from .autonotebook import tqdm as notebook_tqdm\n"
     ]
    }
   ],
   "source": [
    "from tqdm.auto import tqdm\n",
    "def train_step(model:torch.nn.Module,\n",
    "               train_loader:torch.utils.data.DataLoader,\n",
    "               loss_fn: torch.nn.Module,\n",
    "               optimizer: torch.optim,\n",
    "               device:torch.device='cuda'):\n",
    "    model.train()\n",
    "    # 모델도 GPU 환경으로 보내기 (모델 학습시 GPU 학습 가속화)\n",
    "    model = model.to(device)\n",
    "    train_loss, train_acc = 0.0, 0.0\n",
    "    for batch_images,batch_features,target in tqdm(train_loader):\n",
    "        # GPU 상으로 데이터 보내기 (모델 학습시 GPU 학습 가속화)\n",
    "        batch_images,batch_features,target = batch_images.to(device),batch_features.to(device),target.to(device)\n",
    "        # 데이터 -> 모델 입력 \n",
    "        y_pred = model(batch_images,batch_features)\n",
    "        # 로스값 계산\n",
    "        loss = loss_fn(y_pred,target)\n",
    "        train_loss += loss.item()\n",
    "        # 최적화 기울기 초기화\n",
    "        optimizer.zero_grad()\n",
    "        # 역전파 Loss Backward\n",
    "        loss.backward()\n",
    "        # Optimizer Step 가중치 업데이트\n",
    "        optimizer.step()\n",
    "        # 정확도 계산\n",
    "        y_pred_class = torch.argmax(F.softmax(y_pred,dim=1),dim=1)\n",
    "        train_acc += ((y_pred_class==target).sum().item()/len(y_pred))\n",
    "    train_loss,train_acc = train_loss/len(train_loader), train_acc/len(train_loader)\n",
    "    return train_loss,train_acc\n",
    "\n",
    "def test_step(model:torch.nn.Module,\n",
    "              test_loader:torch.utils.data.DataLoader,\n",
    "              loss_fn:torch.nn.Module,\n",
    "              device:torch.device='cuda'):\n",
    "    # 평가 모드\n",
    "    model.eval()\n",
    "    test_loss,test_acc = 0.0, 0.0\n",
    "    # 추론 모드\n",
    "    with torch.inference_mode():\n",
    "        for batch_images,batch_features,target in tqdm(test_loader):\n",
    "            # GPU 상으로 데이터 보내기 (모델 학습시 GPU 학습 가속화)\n",
    "            batch_images,batch_features,target = batch_images.to(device),batch_features.to(device),target.to(device)\n",
    "            \n",
    "            # 데이터 -> 모델 입력 \n",
    "            test_pred_logits = model(batch_images,batch_features)\n",
    "            \n",
    "            # 로스 계산\n",
    "            loss = loss_fn(test_pred_logits,target)\n",
    "            test_loss += loss.item()\n",
    "            \n",
    "            # 정확도 계산\n",
    "            test_pred_class = torch.argmax(F.softmax(test_pred_logits,dim=1),dim=1)\n",
    "            test_acc += ((test_pred_class==target).sum().item()/len(test_pred_logits))\n",
    "    test_loss = test_loss / len(test_loader)\n",
    "    test_acc = test_acc / len(test_loader)        \n",
    "    return test_loss,test_acc"
   ]
  },
  {
   "cell_type": "code",
   "execution_count": 9,
   "metadata": {},
   "outputs": [],
   "source": [
    "from torch.optim import Adam\n",
    "class FocalLoss(nn.Module):\n",
    "    def __init__(self, alpha=1, gamma=2):\n",
    "        super(FocalLoss, self).__init__()\n",
    "        self.alpha = alpha\n",
    "        self.gamma = gamma\n",
    "        self.ce_loss = nn.CrossEntropyLoss(reduction='none')\n",
    "\n",
    "    def forward(self, logits, targets):\n",
    "        ce_loss = self.ce_loss(logits, targets)\n",
    "        pt = torch.exp(-ce_loss)  # 예측 확률\n",
    "        focal_loss = self.alpha * ((1 - pt) ** self.gamma) * ce_loss\n",
    "        return focal_loss.mean()\n",
    "\n",
    "focal_loss = FocalLoss(alpha=0.25, gamma=2) # Focal Loss 파라미터 초기화\n",
    "optimizer = Adam(model.parameters(),lr=0.0001)"
   ]
  },
  {
   "cell_type": "code",
   "execution_count": 15,
   "metadata": {},
   "outputs": [
    {
     "name": "stdout",
     "output_type": "stream",
     "text": [
      "THIS IS 1 times\n"
     ]
    },
    {
     "name": "stderr",
     "output_type": "stream",
     "text": [
      "100%|██████████| 2584/2584 [08:19<00:00,  5.18it/s]\n"
     ]
    },
    {
     "name": "stdout",
     "output_type": "stream",
     "text": [
      "train_loss:0.02357497589942938 | train_acc:0.8660990712074303\n"
     ]
    },
    {
     "name": "stderr",
     "output_type": "stream",
     "text": [
      "100%|██████████| 1108/1108 [02:52<00:00,  6.42it/s]\n"
     ]
    },
    {
     "name": "stdout",
     "output_type": "stream",
     "text": [
      "test_loss:0.024310357633206707 | test_acc:0.8801895306859205\n",
      "Best Model was saved. | test_acc : 0.8801895306859205\n",
      "----------------------------------------------------------------------------------------------------\n",
      "THIS IS 2 times\n"
     ]
    },
    {
     "name": "stderr",
     "output_type": "stream",
     "text": [
      "  3%|▎         | 70/2584 [00:15<09:05,  4.61it/s]\n"
     ]
    },
    {
     "ename": "KeyboardInterrupt",
     "evalue": "",
     "output_type": "error",
     "traceback": [
      "\u001b[1;31m---------------------------------------------------------------------------\u001b[0m",
      "\u001b[1;31mKeyboardInterrupt\u001b[0m                         Traceback (most recent call last)",
      "Cell \u001b[1;32mIn[15], line 7\u001b[0m\n\u001b[0;32m      5\u001b[0m \u001b[38;5;28;01mfor\u001b[39;00m epoch \u001b[38;5;129;01min\u001b[39;00m \u001b[38;5;28mrange\u001b[39m(\u001b[38;5;241m1\u001b[39m,EPOCHS\u001b[38;5;241m+\u001b[39m\u001b[38;5;241m1\u001b[39m,\u001b[38;5;241m1\u001b[39m):\n\u001b[0;32m      6\u001b[0m     \u001b[38;5;28mprint\u001b[39m(\u001b[38;5;124mf\u001b[39m\u001b[38;5;124m\"\u001b[39m\u001b[38;5;124mTHIS IS \u001b[39m\u001b[38;5;132;01m{\u001b[39;00mepoch\u001b[38;5;132;01m}\u001b[39;00m\u001b[38;5;124m times\u001b[39m\u001b[38;5;124m\"\u001b[39m)\n\u001b[1;32m----> 7\u001b[0m     train_loss,train_acc \u001b[38;5;241m=\u001b[39m \u001b[43mtrain_step\u001b[49m\u001b[43m(\u001b[49m\u001b[43mmodel\u001b[49m\u001b[43m,\u001b[49m\u001b[43mtrain_dataloader\u001b[49m\u001b[43m,\u001b[49m\u001b[43mfocal_loss\u001b[49m\u001b[43m,\u001b[49m\u001b[43moptimizer\u001b[49m\u001b[43m)\u001b[49m\n\u001b[0;32m      8\u001b[0m     results[\u001b[38;5;124m'\u001b[39m\u001b[38;5;124mtrain_acc\u001b[39m\u001b[38;5;124m'\u001b[39m]\u001b[38;5;241m.\u001b[39mappend(train_acc)\n\u001b[0;32m      9\u001b[0m     results[\u001b[38;5;124m'\u001b[39m\u001b[38;5;124mtrain_loss\u001b[39m\u001b[38;5;124m'\u001b[39m]\u001b[38;5;241m.\u001b[39mappend(train_loss)\n",
      "Cell \u001b[1;32mIn[8], line 11\u001b[0m, in \u001b[0;36mtrain_step\u001b[1;34m(model, train_loader, loss_fn, optimizer, device)\u001b[0m\n\u001b[0;32m      9\u001b[0m model \u001b[38;5;241m=\u001b[39m model\u001b[38;5;241m.\u001b[39mto(device)\n\u001b[0;32m     10\u001b[0m train_loss, train_acc \u001b[38;5;241m=\u001b[39m \u001b[38;5;241m0.0\u001b[39m, \u001b[38;5;241m0.0\u001b[39m\n\u001b[1;32m---> 11\u001b[0m \u001b[38;5;28;01mfor\u001b[39;00m batch_images,batch_features,target \u001b[38;5;129;01min\u001b[39;00m tqdm(train_loader):\n\u001b[0;32m     12\u001b[0m     \u001b[38;5;66;03m# GPU 상으로 데이터 보내기 (모델 학습시 GPU 학습 가속화)\u001b[39;00m\n\u001b[0;32m     13\u001b[0m     batch_images,batch_features,target \u001b[38;5;241m=\u001b[39m batch_images\u001b[38;5;241m.\u001b[39mto(device),batch_features\u001b[38;5;241m.\u001b[39mto(device),target\u001b[38;5;241m.\u001b[39mto(device)\n\u001b[0;32m     14\u001b[0m     \u001b[38;5;66;03m# 데이터 -> 모델 입력 \u001b[39;00m\n",
      "File \u001b[1;32mc:\\Users\\hyssk\\anaconda3\\envs\\pytorch_cuda_11_8\\lib\\site-packages\\tqdm\\std.py:1181\u001b[0m, in \u001b[0;36mtqdm.__iter__\u001b[1;34m(self)\u001b[0m\n\u001b[0;32m   1178\u001b[0m time \u001b[38;5;241m=\u001b[39m \u001b[38;5;28mself\u001b[39m\u001b[38;5;241m.\u001b[39m_time\n\u001b[0;32m   1180\u001b[0m \u001b[38;5;28;01mtry\u001b[39;00m:\n\u001b[1;32m-> 1181\u001b[0m     \u001b[38;5;28;01mfor\u001b[39;00m obj \u001b[38;5;129;01min\u001b[39;00m iterable:\n\u001b[0;32m   1182\u001b[0m         \u001b[38;5;28;01myield\u001b[39;00m obj\n\u001b[0;32m   1183\u001b[0m         \u001b[38;5;66;03m# Update and possibly print the progressbar.\u001b[39;00m\n\u001b[0;32m   1184\u001b[0m         \u001b[38;5;66;03m# Note: does not call self.update(1) for speed optimisation.\u001b[39;00m\n",
      "File \u001b[1;32mc:\\Users\\hyssk\\anaconda3\\envs\\pytorch_cuda_11_8\\lib\\site-packages\\torch\\utils\\data\\dataloader.py:630\u001b[0m, in \u001b[0;36m_BaseDataLoaderIter.__next__\u001b[1;34m(self)\u001b[0m\n\u001b[0;32m    627\u001b[0m \u001b[38;5;28;01mif\u001b[39;00m \u001b[38;5;28mself\u001b[39m\u001b[38;5;241m.\u001b[39m_sampler_iter \u001b[38;5;129;01mis\u001b[39;00m \u001b[38;5;28;01mNone\u001b[39;00m:\n\u001b[0;32m    628\u001b[0m     \u001b[38;5;66;03m# TODO(https://github.com/pytorch/pytorch/issues/76750)\u001b[39;00m\n\u001b[0;32m    629\u001b[0m     \u001b[38;5;28mself\u001b[39m\u001b[38;5;241m.\u001b[39m_reset()  \u001b[38;5;66;03m# type: ignore[call-arg]\u001b[39;00m\n\u001b[1;32m--> 630\u001b[0m data \u001b[38;5;241m=\u001b[39m \u001b[38;5;28;43mself\u001b[39;49m\u001b[38;5;241;43m.\u001b[39;49m\u001b[43m_next_data\u001b[49m\u001b[43m(\u001b[49m\u001b[43m)\u001b[49m\n\u001b[0;32m    631\u001b[0m \u001b[38;5;28mself\u001b[39m\u001b[38;5;241m.\u001b[39m_num_yielded \u001b[38;5;241m+\u001b[39m\u001b[38;5;241m=\u001b[39m \u001b[38;5;241m1\u001b[39m\n\u001b[0;32m    632\u001b[0m \u001b[38;5;28;01mif\u001b[39;00m \u001b[38;5;28mself\u001b[39m\u001b[38;5;241m.\u001b[39m_dataset_kind \u001b[38;5;241m==\u001b[39m _DatasetKind\u001b[38;5;241m.\u001b[39mIterable \u001b[38;5;129;01mand\u001b[39;00m \\\n\u001b[0;32m    633\u001b[0m         \u001b[38;5;28mself\u001b[39m\u001b[38;5;241m.\u001b[39m_IterableDataset_len_called \u001b[38;5;129;01mis\u001b[39;00m \u001b[38;5;129;01mnot\u001b[39;00m \u001b[38;5;28;01mNone\u001b[39;00m \u001b[38;5;129;01mand\u001b[39;00m \\\n\u001b[0;32m    634\u001b[0m         \u001b[38;5;28mself\u001b[39m\u001b[38;5;241m.\u001b[39m_num_yielded \u001b[38;5;241m>\u001b[39m \u001b[38;5;28mself\u001b[39m\u001b[38;5;241m.\u001b[39m_IterableDataset_len_called:\n",
      "File \u001b[1;32mc:\\Users\\hyssk\\anaconda3\\envs\\pytorch_cuda_11_8\\lib\\site-packages\\torch\\utils\\data\\dataloader.py:673\u001b[0m, in \u001b[0;36m_SingleProcessDataLoaderIter._next_data\u001b[1;34m(self)\u001b[0m\n\u001b[0;32m    671\u001b[0m \u001b[38;5;28;01mdef\u001b[39;00m \u001b[38;5;21m_next_data\u001b[39m(\u001b[38;5;28mself\u001b[39m):\n\u001b[0;32m    672\u001b[0m     index \u001b[38;5;241m=\u001b[39m \u001b[38;5;28mself\u001b[39m\u001b[38;5;241m.\u001b[39m_next_index()  \u001b[38;5;66;03m# may raise StopIteration\u001b[39;00m\n\u001b[1;32m--> 673\u001b[0m     data \u001b[38;5;241m=\u001b[39m \u001b[38;5;28;43mself\u001b[39;49m\u001b[38;5;241;43m.\u001b[39;49m\u001b[43m_dataset_fetcher\u001b[49m\u001b[38;5;241;43m.\u001b[39;49m\u001b[43mfetch\u001b[49m\u001b[43m(\u001b[49m\u001b[43mindex\u001b[49m\u001b[43m)\u001b[49m  \u001b[38;5;66;03m# may raise StopIteration\u001b[39;00m\n\u001b[0;32m    674\u001b[0m     \u001b[38;5;28;01mif\u001b[39;00m \u001b[38;5;28mself\u001b[39m\u001b[38;5;241m.\u001b[39m_pin_memory:\n\u001b[0;32m    675\u001b[0m         data \u001b[38;5;241m=\u001b[39m _utils\u001b[38;5;241m.\u001b[39mpin_memory\u001b[38;5;241m.\u001b[39mpin_memory(data, \u001b[38;5;28mself\u001b[39m\u001b[38;5;241m.\u001b[39m_pin_memory_device)\n",
      "File \u001b[1;32mc:\\Users\\hyssk\\anaconda3\\envs\\pytorch_cuda_11_8\\lib\\site-packages\\torch\\utils\\data\\_utils\\fetch.py:52\u001b[0m, in \u001b[0;36m_MapDatasetFetcher.fetch\u001b[1;34m(self, possibly_batched_index)\u001b[0m\n\u001b[0;32m     50\u001b[0m         data \u001b[38;5;241m=\u001b[39m \u001b[38;5;28mself\u001b[39m\u001b[38;5;241m.\u001b[39mdataset\u001b[38;5;241m.\u001b[39m__getitems__(possibly_batched_index)\n\u001b[0;32m     51\u001b[0m     \u001b[38;5;28;01melse\u001b[39;00m:\n\u001b[1;32m---> 52\u001b[0m         data \u001b[38;5;241m=\u001b[39m [\u001b[38;5;28mself\u001b[39m\u001b[38;5;241m.\u001b[39mdataset[idx] \u001b[38;5;28;01mfor\u001b[39;00m idx \u001b[38;5;129;01min\u001b[39;00m possibly_batched_index]\n\u001b[0;32m     53\u001b[0m \u001b[38;5;28;01melse\u001b[39;00m:\n\u001b[0;32m     54\u001b[0m     data \u001b[38;5;241m=\u001b[39m \u001b[38;5;28mself\u001b[39m\u001b[38;5;241m.\u001b[39mdataset[possibly_batched_index]\n",
      "File \u001b[1;32mc:\\Users\\hyssk\\anaconda3\\envs\\pytorch_cuda_11_8\\lib\\site-packages\\torch\\utils\\data\\_utils\\fetch.py:52\u001b[0m, in \u001b[0;36m<listcomp>\u001b[1;34m(.0)\u001b[0m\n\u001b[0;32m     50\u001b[0m         data \u001b[38;5;241m=\u001b[39m \u001b[38;5;28mself\u001b[39m\u001b[38;5;241m.\u001b[39mdataset\u001b[38;5;241m.\u001b[39m__getitems__(possibly_batched_index)\n\u001b[0;32m     51\u001b[0m     \u001b[38;5;28;01melse\u001b[39;00m:\n\u001b[1;32m---> 52\u001b[0m         data \u001b[38;5;241m=\u001b[39m [\u001b[38;5;28;43mself\u001b[39;49m\u001b[38;5;241;43m.\u001b[39;49m\u001b[43mdataset\u001b[49m\u001b[43m[\u001b[49m\u001b[43midx\u001b[49m\u001b[43m]\u001b[49m \u001b[38;5;28;01mfor\u001b[39;00m idx \u001b[38;5;129;01min\u001b[39;00m possibly_batched_index]\n\u001b[0;32m     53\u001b[0m \u001b[38;5;28;01melse\u001b[39;00m:\n\u001b[0;32m     54\u001b[0m     data \u001b[38;5;241m=\u001b[39m \u001b[38;5;28mself\u001b[39m\u001b[38;5;241m.\u001b[39mdataset[possibly_batched_index]\n",
      "Cell \u001b[1;32mIn[4], line 13\u001b[0m, in \u001b[0;36mMultimodalDataset.__getitem__\u001b[1;34m(self, index)\u001b[0m\n\u001b[0;32m     11\u001b[0m \u001b[38;5;28;01mdef\u001b[39;00m \u001b[38;5;21m__getitem__\u001b[39m(\u001b[38;5;28mself\u001b[39m, index):\n\u001b[0;32m     12\u001b[0m \u001b[38;5;250m    \u001b[39m\u001b[38;5;124;03m\"\"\"열화상 이미지 [1,120,160]크기와 센서 데이터 11개의 칼럼 그리고 이에 해당하는 정답 데이터 반환\"\"\"\u001b[39;00m\n\u001b[1;32m---> 13\u001b[0m     image \u001b[38;5;241m=\u001b[39m torch\u001b[38;5;241m.\u001b[39mtensor(\u001b[43mnp\u001b[49m\u001b[38;5;241;43m.\u001b[39;49m\u001b[43mload\u001b[49m\u001b[43m(\u001b[49m\u001b[38;5;28;43mself\u001b[39;49m\u001b[38;5;241;43m.\u001b[39;49m\u001b[43mX\u001b[49m\u001b[38;5;241;43m.\u001b[39;49m\u001b[43miloc\u001b[49m\u001b[43m[\u001b[49m\u001b[43mindex\u001b[49m\u001b[43m]\u001b[49m\u001b[43m[\u001b[49m\u001b[38;5;124;43m'\u001b[39;49m\u001b[38;5;124;43mfilenames\u001b[39;49m\u001b[38;5;124;43m'\u001b[39;49m\u001b[43m]\u001b[49m\u001b[43m)\u001b[49m,dtype\u001b[38;5;241m=\u001b[39mtorch\u001b[38;5;241m.\u001b[39mfloat32)\u001b[38;5;241m.\u001b[39munsqueeze(\u001b[38;5;241m0\u001b[39m)\n\u001b[0;32m     14\u001b[0m     sensor_features \u001b[38;5;241m=\u001b[39m \u001b[38;5;28mself\u001b[39m\u001b[38;5;241m.\u001b[39mX\u001b[38;5;241m.\u001b[39mdrop(columns\u001b[38;5;241m=\u001b[39m[\u001b[38;5;124m'\u001b[39m\u001b[38;5;124mfilenames\u001b[39m\u001b[38;5;124m'\u001b[39m])\n\u001b[0;32m     15\u001b[0m     sensor_features \u001b[38;5;241m=\u001b[39m torch\u001b[38;5;241m.\u001b[39mtensor(sensor_features\u001b[38;5;241m.\u001b[39miloc[index]\u001b[38;5;241m.\u001b[39mvalues,dtype\u001b[38;5;241m=\u001b[39mtorch\u001b[38;5;241m.\u001b[39mfloat32)\n",
      "File \u001b[1;32mc:\\Users\\hyssk\\anaconda3\\envs\\pytorch_cuda_11_8\\lib\\site-packages\\numpy\\lib\\npyio.py:427\u001b[0m, in \u001b[0;36mload\u001b[1;34m(file, mmap_mode, allow_pickle, fix_imports, encoding, max_header_size)\u001b[0m\n\u001b[0;32m    425\u001b[0m     own_fid \u001b[38;5;241m=\u001b[39m \u001b[38;5;28;01mFalse\u001b[39;00m\n\u001b[0;32m    426\u001b[0m \u001b[38;5;28;01melse\u001b[39;00m:\n\u001b[1;32m--> 427\u001b[0m     fid \u001b[38;5;241m=\u001b[39m stack\u001b[38;5;241m.\u001b[39menter_context(\u001b[38;5;28;43mopen\u001b[39;49m\u001b[43m(\u001b[49m\u001b[43mos_fspath\u001b[49m\u001b[43m(\u001b[49m\u001b[43mfile\u001b[49m\u001b[43m)\u001b[49m\u001b[43m,\u001b[49m\u001b[43m \u001b[49m\u001b[38;5;124;43m\"\u001b[39;49m\u001b[38;5;124;43mrb\u001b[39;49m\u001b[38;5;124;43m\"\u001b[39;49m\u001b[43m)\u001b[49m)\n\u001b[0;32m    428\u001b[0m     own_fid \u001b[38;5;241m=\u001b[39m \u001b[38;5;28;01mTrue\u001b[39;00m\n\u001b[0;32m    430\u001b[0m \u001b[38;5;66;03m# Code to distinguish from NumPy binary files and pickles.\u001b[39;00m\n",
      "\u001b[1;31mKeyboardInterrupt\u001b[0m: "
     ]
    }
   ],
   "source": [
    "EPOCHS = 15\n",
    "results = {'train_acc':[],'train_loss':[],'test_acc':[],'test_loss':[]}\n",
    "maximum_test_acc = 0\n",
    "\n",
    "for epoch in range(1,EPOCHS+1,1):\n",
    "    print(f\"THIS IS {epoch} times\")\n",
    "    train_loss,train_acc = train_step(model,train_dataloader,focal_loss,optimizer)\n",
    "    results['train_acc'].append(train_acc)\n",
    "    results['train_loss'].append(train_loss)\n",
    "    print(f'train_loss:{train_loss} | train_acc:{train_acc}')\n",
    "    \n",
    "    test_loss,test_acc = test_step(model,test_dataloader,focal_loss)\n",
    "    results['test_acc'].append(test_acc)\n",
    "    results['test_loss'].append(test_loss)\n",
    "    \n",
    "    print(f'test_loss:{test_loss} | test_acc:{test_acc}')\n",
    "    \n",
    "    if maximum_test_acc < test_acc:\n",
    "        maximum_test_acc = test_acc\n",
    "        torch.save(model,'OHT_Best_Model.pth')\n",
    "        print(f'Best Model was saved. | test_acc : {test_acc}')\n",
    "    else:\n",
    "        pass\n",
    "    print('-'*100)"
   ]
  },
  {
   "cell_type": "code",
   "execution_count": 16,
   "metadata": {},
   "outputs": [
    {
     "data": {
      "image/png": "[encoded data removed]",
      "text/plain": [
       "<Figure size 640x480 with 1 Axes>"
      ]
     },
     "metadata": {},
     "output_type": "display_data"
    },
    {
     "data": {
      "image/png": "[encoded data removed]",
      "text/plain": [
       "<Figure size 640x480 with 1 Axes>"
      ]
     },
     "metadata": {},
     "output_type": "display_data"
    }
   ],
   "source": [
    "import matplotlib.pyplot as plt\n",
    "\n",
    "plt.figure()\n",
    "plt.plot(results['train_acc'],label='train_acc')\n",
    "plt.plot(results['test_acc'],label='test_acc')\n",
    "plt.legend()\n",
    "plt.xlabel('Epochs')\n",
    "plt.show()\n",
    "\n",
    "plt.figure()\n",
    "plt.plot(results['train_loss'],label='train_loss')\n",
    "plt.plot(results['test_loss'],label='test_loss')\n",
    "plt.legend()\n",
    "plt.xlabel('Epochs')\n",
    "plt.show()"
   ]
  },
  {
   "cell_type": "code",
   "execution_count": 44,
   "metadata": {},
   "outputs": [
    {
     "name": "stdout",
     "output_type": "stream",
     "text": [
      "tensor([3, 3, 3], device='cuda:0')\n"
     ]
    }
   ],
   "source": [
    "from sklearn.metrics import confusion_matrix, ConfusionMatrixDisplay, classification_report\n",
    "model.eval()\n",
    "# test_dataloader = iter(test_dataloader)\n",
    "# images, features, targets = next(test_dataloader)\n",
    "# print(images.shape,features.shape)\n",
    "\n",
    "# images, features, targets = images.to('cuda'), features.to('cuda'), targets.to('cuda')\n",
    "with torch.inference_mode():\n",
    "    # print(test_step(model,test_dataloader,focal_loss))\n",
    "    print(torch.argmax(F.softmax(model(images,features),dim=1),dim=1))"
   ]
  },
  {
   "cell_type": "code",
   "execution_count": 50,
   "metadata": {},
   "outputs": [
    {
     "name": "stdout",
     "output_type": "stream",
     "text": [
      "tensor([0., 0., 0.,  ..., 3., 3., 3.], device='cuda:0')\n",
      "tensor([0., 0., 0.,  ..., 3., 3., 3.], device='cuda:0')\n"
     ]
    }
   ],
   "source": [
    "y_true = torch.tensor([]).to(device='cuda')\n",
    "y_pred = torch.tensor([]).to(device='cuda')\n",
    "\n",
    "with torch.inference_mode():\n",
    "    model.eval()\n",
    "    for images,features,targets in test_dataloader:\n",
    "        images, features, targets = images.to('cuda'), features.to('cuda'), targets.to('cuda')\n",
    "        predictions = torch.argmax(F.softmax(model(images,features),dim=1),dim=1)\n",
    "        y_pred = torch.cat((y_pred, predictions))\n",
    "        y_true = torch.cat((y_true, targets))\n",
    "print(y_pred)\n",
    "print(y_true)"
   ]
  },
  {
   "cell_type": "code",
   "execution_count": 56,
   "metadata": {},
   "outputs": [
    {
     "data": {
      "image/png": "[encoded data removed]",
      "text/plain": [
       "<Figure size 640x480 with 2 Axes>"
      ]
     },
     "metadata": {},
     "output_type": "display_data"
    }
   ],
   "source": [
    "from sklearn.metrics import confusion_matrix, ConfusionMatrixDisplay, classification_report\n",
    "y_true = y_true.cpu()\n",
    "y_pred = y_pred.cpu()\n",
    "cm = confusion_matrix(y_true,y_pred)\n",
    "ConfusionMatrixDisplay(cm).plot(cmap='Blues')\n",
    "plt.show()"
   ]
  },
  {
   "cell_type": "code",
   "execution_count": 55,
   "metadata": {},
   "outputs": [
    {
     "name": "stdout",
     "output_type": "stream",
     "text": [
      "              precision    recall  f1-score   support\n",
      "\n",
      "         0.0       0.86      1.00      0.92      7662\n",
      "         1.0       0.89      0.67      0.77      4221\n",
      "         2.0       0.96      0.86      0.91      4242\n",
      "         3.0       0.87      0.95      0.91      1590\n",
      "\n",
      "    accuracy                           0.88     17715\n",
      "   macro avg       0.89      0.87      0.88     17715\n",
      "weighted avg       0.89      0.88      0.88     17715\n",
      "\n"
     ]
    }
   ],
   "source": [
    "print(classification_report(y_true,y_pred))"
   ]
  },
  {
   "cell_type": "code",
   "execution_count": null,
   "metadata": {},
   "outputs": [],
   "source": []
  }
 ],
 "metadata": {
  "kernelspec": {
   "display_name": "pytorch_cuda_11_8",
   "language": "python",
   "name": "python3"
  },
  "language_info": {
   "codemirror_mode": {
    "name": "ipython",
    "version": 3
   },
   "file_extension": ".py",
   "mimetype": "text/x-python",
   "name": "python",
   "nbconvert_exporter": "python",
   "pygments_lexer": "ipython3",
   "version": "3.9.18"
  }
 },
 "nbformat": 4,
 "nbformat_minor": 2
}
