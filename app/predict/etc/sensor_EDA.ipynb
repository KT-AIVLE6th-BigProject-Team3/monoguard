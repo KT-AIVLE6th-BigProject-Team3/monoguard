{
 "cells": [
  {
   "cell_type": "code",
   "execution_count": 2,
   "metadata": {},
   "outputs": [
    {
     "name": "stdout",
     "output_type": "stream",
     "text": [
      "\n",
      "=== 데이터프레임 미리보기 ===\n",
      "      device_id collection_date collection_time cumulative_operating_day  \\\n",
      "40422     agv16           10-27        13:09:22                       13   \n",
      "40423     agv16           10-27        13:09:23                       13   \n",
      "40424     agv16           10-27        13:09:24                       13   \n",
      "40425     agv16           10-27        13:09:25                       13   \n",
      "40426     agv16           10-27        13:09:26                       13   \n",
      "\n",
      "                                               filenames   NTC  PM1.0  PM2.5  \\\n",
      "40422  3.개방데이터\\1.데이터\\1.Training\\1.원천데이터\\agv\\16\\agv16_...  58.8   38.0   49.0   \n",
      "40423  3.개방데이터\\1.데이터\\1.Training\\1.원천데이터\\agv\\16\\agv16_...  58.8   40.0   48.0   \n",
      "40424  3.개방데이터\\1.데이터\\1.Training\\1.원천데이터\\agv\\16\\agv16_...  58.8   38.0   47.0   \n",
      "40425  3.개방데이터\\1.데이터\\1.Training\\1.원천데이터\\agv\\16\\agv16_...  58.6   39.0   48.0   \n",
      "40426  3.개방데이터\\1.데이터\\1.Training\\1.원천데이터\\agv\\16\\agv16_...  58.6   37.0   48.0   \n",
      "\n",
      "       PM10   CT1     CT2    CT3     CT4  ex_temperature  ex_humidity  \\\n",
      "40422  89.0  1.75  244.64  49.78  189.47            26.0         29.0   \n",
      "40423  90.0  2.09  248.58  49.81  193.71            26.0         30.0   \n",
      "40424  88.0  1.83  253.24  49.88  198.16            25.0         27.0   \n",
      "40425  88.0  1.84  258.05  49.77  202.91            26.0         34.0   \n",
      "40426  88.0  2.10  260.78  49.76  205.83            25.0         32.0   \n",
      "\n",
      "       ex_illuminance state  \n",
      "40422           151.0     3  \n",
      "40423           154.0     3  \n",
      "40424           155.0     3  \n",
      "40425           158.0     3  \n",
      "40426           160.0     3  \n"
     ]
    }
   ],
   "source": [
    "import joblib\n",
    "import pandas as pd\n",
    "\n",
    "# 데이터 로드\n",
    "file_path = '/Users/hwangeunbi/Desktop/빅프로젝트/MultiModal_AI_1/DataFrame/agv_dataframe_version_2.pkl'\n",
    "df = joblib.load(file_path)\n",
    "\n",
    "print(\"\\n=== 데이터프레임 미리보기 ===\")\n",
    "print(df.tail())"
   ]
  }
 ],
 "metadata": {
  "kernelspec": {
   "display_name": "em",
   "language": "python",
   "name": "python3"
  },
  "language_info": {
   "codemirror_mode": {
    "name": "ipython",
    "version": 3
   },
   "file_extension": ".py",
   "mimetype": "text/x-python",
   "name": "python",
   "nbconvert_exporter": "python",
   "pygments_lexer": "ipython3",
   "version": "3.12.8"
  }
 },
 "nbformat": 4,
 "nbformat_minor": 2
}
