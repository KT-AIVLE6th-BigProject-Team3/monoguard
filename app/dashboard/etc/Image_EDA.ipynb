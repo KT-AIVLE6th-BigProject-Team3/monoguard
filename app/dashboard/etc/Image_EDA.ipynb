{
 "cells": [
  {
   "cell_type": "markdown",
   "metadata": {},
   "source": [
    "# EDA를 위해서 이미지들을 동영상으로 "
   ]
  },
  {
   "cell_type": "markdown",
   "metadata": {},
   "source": [
    "## state 별로 영상 제작"
   ]
  },
  {
   "cell_type": "code",
   "execution_count": 54,
   "metadata": {},
   "outputs": [],
   "source": [
    "import joblib\n",
    "import os\n",
    "import matplotlib.pyplot as plt\n",
    "import numpy as np\n",
    "\n",
    "dataset = joblib.load('agv_dataframe.pkl')\n",
    "\n",
    "danger_dataset = dataset.loc[dataset['state'] == '2'] # 0:정상, 1:관심, 2:경고, 3:위험\n",
    "danger_bin_files = danger_dataset['filenames'].to_list()\n",
    "danger_bin_files.__len__()\n",
    "for idx,i in enumerate(danger_bin_files):\n",
    "    plt.figure()\n",
    "    plt.imshow(np.load(i))\n",
    "    plt.axis(False)\n",
    "    plt.savefig(f'danger_3_pictures/danger_series_{idx}.jpg')\n",
    "    plt.close()"
   ]
  },
  {
   "cell_type": "markdown",
   "metadata": {},
   "source": [
    "## AGV | OHT 데이터 둘 다 동영상 "
   ]
  },
  {
   "cell_type": "code",
   "execution_count": 55,
   "metadata": {},
   "outputs": [
    {
     "name": "stdout",
     "output_type": "stream",
     "text": [
      "동영상 생성 완료: agv_2_cautious_video.mp4\n"
     ]
    }
   ],
   "source": [
    "import cv2\n",
    "import glob\n",
    "\n",
    "image_folder = 'danger_3_pictures'\n",
    "output_video = 'agv_2_cautious_video.mp4'\n",
    "\n",
    "danger_jpg_files = [os.path.join(image_folder,f'danger_series_{i}.jpg') for i in range(len(os.listdir(image_folder)))]\n",
    "\n",
    "first_image = cv2.imread(os.path.join(image_folder,os.listdir(image_folder)[0]))\n",
    "height,width, _ = first_image.shape\n",
    "\n",
    "fourcc = cv2.VideoWriter_fourcc(*'mp4v')\n",
    "video_writer = cv2.VideoWriter(output_video,fourcc,120,(width,height))\n",
    "\n",
    "for image_file in danger_jpg_files:\n",
    "    image = cv2.imread(image_file)\n",
    "    \n",
    "    # 이미지가 None일 경우 처리 (파일이 손상되었거나 읽을 수 없는 경우)\n",
    "    if image is None:\n",
    "        print(f\"Warning: {image_file} is not a valid image.\")\n",
    "        continue\n",
    "    \n",
    "    # 동영상에 이미지 추가\n",
    "    video_writer.write(image)\n",
    "\n",
    "# 동영상 파일 저장 종료\n",
    "video_writer.release()\n",
    "\n",
    "print(\"동영상 생성 완료:\", output_video)"
   ]
  }
 ],
 "metadata": {
  "kernelspec": {
   "display_name": "BigProject",
   "language": "python",
   "name": "python3"
  },
  "language_info": {
   "codemirror_mode": {
    "name": "ipython",
    "version": 3
   },
   "file_extension": ".py",
   "mimetype": "text/x-python",
   "name": "python",
   "nbconvert_exporter": "python",
   "pygments_lexer": "ipython3",
   "version": "3.11.11"
  }
 },
 "nbformat": 4,
 "nbformat_minor": 2
}
