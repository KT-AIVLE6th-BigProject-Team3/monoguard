{
 "cells": [
  {
   "cell_type": "code",
   "execution_count": null,
   "id": "364bcecf-ce45-4664-81dc-05338aab9169",
   "metadata": {},
   "outputs": [],
   "source": [
    "비즈니스적으로 더 중요한 건 Recall.\n",
    "\n",
    "고장을 놓치면 큰 비용이 발생(FN ↑) → Recall(재현율)을 높여야 함\n",
    "\n",
    "- False Negative (FN, 놓친 고장) 최소화 → Recall ↑\n",
    "\n",
    "FN이 많으면 실제 고장을 감지 못해 생산 손실 발생 (수십억 원 규모)\n",
    "고장 감지를 놓치지 않으려면 Recall을 높이는 방향이 최우선\n",
    "\n",
    "- False Positive (FP, 불필요한 유지보수) 관리 → Precision 최적화\n",
    "\n",
    "고장이 아닌데 예방 조치하면 유지보수 비용 증가\n",
    "하지만 FP 비용(수천만 원 수준) < FN 비용(수십억 원) → Recall을 우선적으로 확보해야 함\n",
    "\n",
    "- Threshold(임계값) 최적화 필요\n",
    "\n",
    "=>현재 모델의 예측 확률을 분석하여 적절한 Threshold 및 하이퍼파라미터 조정\n",
    "1. FP/FN 비용을 기반으로 가중치를 조정\n",
    "2. 기대 가치 계산 공식 : ev = px*v1+ (1-px)*v0\n",
    "Px : 모델이 예측한 고장 확률\n",
    "𝑉1  : 고장을 올바르게 예측했을 때의 경제적 이익\n",
    "𝑉0  : 고장을 놓쳤을 때 발생하는 비용 (손실)\n",
    "\n",
    "px,v1,v0 가정후 계산"
   ]
  }
 ],
 "metadata": {
  "kernelspec": {
   "display_name": "cuda11.1",
   "language": "python",
   "name": "tf37"
  },
  "language_info": {
   "codemirror_mode": {
    "name": "ipython",
    "version": 3
   },
   "file_extension": ".py",
   "mimetype": "text/x-python",
   "name": "python",
   "nbconvert_exporter": "python",
   "pygments_lexer": "ipython3",
   "version": "3.7.16"
  }
 },
 "nbformat": 4,
 "nbformat_minor": 5
}
