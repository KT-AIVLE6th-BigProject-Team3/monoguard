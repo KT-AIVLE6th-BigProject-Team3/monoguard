{
 "cells": [
  {
   "cell_type": "code",
   "execution_count": 1,
   "metadata": {},
   "outputs": [],
   "source": [
    "import torch\n",
    "import joblib\n",
    "import pandas\n",
    "import numpy as np\n",
    "from torch.utils.data import Dataset, DataLoader\n",
    "from sklearn.model_selection import train_test_split\n",
    "import torch\n",
    "import torch.nn as nn\n",
    "import torch.nn.functional as F"
   ]
  },
  {
   "cell_type": "code",
   "execution_count": 4,
   "metadata": {},
   "outputs": [
    {
     "data": {
      "text/html": [
       "<div>\n",
       "<style scoped>\n",
       "    .dataframe tbody tr th:only-of-type {\n",
       "        vertical-align: middle;\n",
       "    }\n",
       "\n",
       "    .dataframe tbody tr th {\n",
       "        vertical-align: top;\n",
       "    }\n",
       "\n",
       "    .dataframe thead th {\n",
       "        text-align: right;\n",
       "    }\n",
       "</style>\n",
       "<table border=\"1\" class=\"dataframe\">\n",
       "  <thead>\n",
       "    <tr style=\"text-align: right;\">\n",
       "      <th></th>\n",
       "      <th>filenames</th>\n",
       "      <th>NTC</th>\n",
       "      <th>PM1.0</th>\n",
       "      <th>PM2.5</th>\n",
       "      <th>PM10</th>\n",
       "      <th>CT1</th>\n",
       "      <th>CT2</th>\n",
       "      <th>CT3</th>\n",
       "      <th>CT4</th>\n",
       "      <th>ex_temperature</th>\n",
       "      <th>ex_humidity</th>\n",
       "      <th>ex_illuminance</th>\n",
       "    </tr>\n",
       "  </thead>\n",
       "  <tbody>\n",
       "    <tr>\n",
       "      <th>0</th>\n",
       "      <td>3.개방데이터\\1.데이터\\1.Training\\1.원천데이터\\oht\\01\\oht01_...</td>\n",
       "      <td>27.00</td>\n",
       "      <td>8.0</td>\n",
       "      <td>12.0</td>\n",
       "      <td>20.0</td>\n",
       "      <td>2.30</td>\n",
       "      <td>1.35</td>\n",
       "      <td>0.35</td>\n",
       "      <td>0.35</td>\n",
       "      <td>23.0</td>\n",
       "      <td>36.0</td>\n",
       "      <td>511.0</td>\n",
       "    </tr>\n",
       "    <tr>\n",
       "      <th>1</th>\n",
       "      <td>3.개방데이터\\1.데이터\\1.Training\\1.원천데이터\\oht\\01\\oht01_...</td>\n",
       "      <td>27.00</td>\n",
       "      <td>7.0</td>\n",
       "      <td>12.0</td>\n",
       "      <td>20.0</td>\n",
       "      <td>2.80</td>\n",
       "      <td>0.94</td>\n",
       "      <td>0.64</td>\n",
       "      <td>0.50</td>\n",
       "      <td>22.0</td>\n",
       "      <td>35.0</td>\n",
       "      <td>514.0</td>\n",
       "    </tr>\n",
       "    <tr>\n",
       "      <th>2</th>\n",
       "      <td>3.개방데이터\\1.데이터\\1.Training\\1.원천데이터\\oht\\01\\oht01_...</td>\n",
       "      <td>27.10</td>\n",
       "      <td>8.0</td>\n",
       "      <td>12.0</td>\n",
       "      <td>20.0</td>\n",
       "      <td>2.86</td>\n",
       "      <td>0.86</td>\n",
       "      <td>0.68</td>\n",
       "      <td>0.48</td>\n",
       "      <td>23.0</td>\n",
       "      <td>35.0</td>\n",
       "      <td>515.0</td>\n",
       "    </tr>\n",
       "    <tr>\n",
       "      <th>3</th>\n",
       "      <td>3.개방데이터\\1.데이터\\1.Training\\1.원천데이터\\oht\\01\\oht01_...</td>\n",
       "      <td>27.10</td>\n",
       "      <td>7.0</td>\n",
       "      <td>12.0</td>\n",
       "      <td>21.0</td>\n",
       "      <td>2.22</td>\n",
       "      <td>1.18</td>\n",
       "      <td>0.68</td>\n",
       "      <td>0.44</td>\n",
       "      <td>22.0</td>\n",
       "      <td>35.0</td>\n",
       "      <td>513.0</td>\n",
       "    </tr>\n",
       "    <tr>\n",
       "      <th>4</th>\n",
       "      <td>3.개방데이터\\1.데이터\\1.Training\\1.원천데이터\\oht\\01\\oht01_...</td>\n",
       "      <td>27.10</td>\n",
       "      <td>7.0</td>\n",
       "      <td>11.0</td>\n",
       "      <td>21.0</td>\n",
       "      <td>2.41</td>\n",
       "      <td>1.38</td>\n",
       "      <td>0.60</td>\n",
       "      <td>0.50</td>\n",
       "      <td>22.0</td>\n",
       "      <td>36.0</td>\n",
       "      <td>523.0</td>\n",
       "    </tr>\n",
       "    <tr>\n",
       "      <th>...</th>\n",
       "      <td>...</td>\n",
       "      <td>...</td>\n",
       "      <td>...</td>\n",
       "      <td>...</td>\n",
       "      <td>...</td>\n",
       "      <td>...</td>\n",
       "      <td>...</td>\n",
       "      <td>...</td>\n",
       "      <td>...</td>\n",
       "      <td>...</td>\n",
       "      <td>...</td>\n",
       "      <td>...</td>\n",
       "    </tr>\n",
       "    <tr>\n",
       "      <th>59044</th>\n",
       "      <td>3.개방데이터\\1.데이터\\1.Training\\1.원천데이터\\oht\\16\\oht16_...</td>\n",
       "      <td>59.64</td>\n",
       "      <td>8.0</td>\n",
       "      <td>13.0</td>\n",
       "      <td>21.0</td>\n",
       "      <td>1.99</td>\n",
       "      <td>144.30</td>\n",
       "      <td>143.93</td>\n",
       "      <td>0.32</td>\n",
       "      <td>22.0</td>\n",
       "      <td>35.0</td>\n",
       "      <td>514.0</td>\n",
       "    </tr>\n",
       "    <tr>\n",
       "      <th>59045</th>\n",
       "      <td>3.개방데이터\\1.데이터\\1.Training\\1.원천데이터\\oht\\16\\oht16_...</td>\n",
       "      <td>60.00</td>\n",
       "      <td>8.0</td>\n",
       "      <td>12.0</td>\n",
       "      <td>20.0</td>\n",
       "      <td>2.07</td>\n",
       "      <td>148.51</td>\n",
       "      <td>147.92</td>\n",
       "      <td>0.40</td>\n",
       "      <td>22.0</td>\n",
       "      <td>35.0</td>\n",
       "      <td>514.0</td>\n",
       "    </tr>\n",
       "    <tr>\n",
       "      <th>59046</th>\n",
       "      <td>3.개방데이터\\1.데이터\\1.Training\\1.원천데이터\\oht\\16\\oht16_...</td>\n",
       "      <td>60.62</td>\n",
       "      <td>6.0</td>\n",
       "      <td>12.0</td>\n",
       "      <td>20.0</td>\n",
       "      <td>2.33</td>\n",
       "      <td>152.47</td>\n",
       "      <td>152.21</td>\n",
       "      <td>0.34</td>\n",
       "      <td>23.0</td>\n",
       "      <td>36.0</td>\n",
       "      <td>526.0</td>\n",
       "    </tr>\n",
       "    <tr>\n",
       "      <th>59047</th>\n",
       "      <td>3.개방데이터\\1.데이터\\1.Training\\1.원천데이터\\oht\\16\\oht16_...</td>\n",
       "      <td>60.79</td>\n",
       "      <td>8.0</td>\n",
       "      <td>13.0</td>\n",
       "      <td>20.0</td>\n",
       "      <td>1.96</td>\n",
       "      <td>156.69</td>\n",
       "      <td>156.30</td>\n",
       "      <td>0.33</td>\n",
       "      <td>23.0</td>\n",
       "      <td>35.0</td>\n",
       "      <td>529.0</td>\n",
       "    </tr>\n",
       "    <tr>\n",
       "      <th>59048</th>\n",
       "      <td>3.개방데이터\\1.데이터\\1.Training\\1.원천데이터\\oht\\16\\oht16_...</td>\n",
       "      <td>61.40</td>\n",
       "      <td>8.0</td>\n",
       "      <td>12.0</td>\n",
       "      <td>20.0</td>\n",
       "      <td>2.14</td>\n",
       "      <td>161.21</td>\n",
       "      <td>160.77</td>\n",
       "      <td>0.36</td>\n",
       "      <td>22.0</td>\n",
       "      <td>35.0</td>\n",
       "      <td>520.0</td>\n",
       "    </tr>\n",
       "  </tbody>\n",
       "</table>\n",
       "<p>59049 rows × 12 columns</p>\n",
       "</div>"
      ],
      "text/plain": [
       "                                               filenames    NTC  PM1.0  PM2.5  \\\n",
       "0      3.개방데이터\\1.데이터\\1.Training\\1.원천데이터\\oht\\01\\oht01_...  27.00    8.0   12.0   \n",
       "1      3.개방데이터\\1.데이터\\1.Training\\1.원천데이터\\oht\\01\\oht01_...  27.00    7.0   12.0   \n",
       "2      3.개방데이터\\1.데이터\\1.Training\\1.원천데이터\\oht\\01\\oht01_...  27.10    8.0   12.0   \n",
       "3      3.개방데이터\\1.데이터\\1.Training\\1.원천데이터\\oht\\01\\oht01_...  27.10    7.0   12.0   \n",
       "4      3.개방데이터\\1.데이터\\1.Training\\1.원천데이터\\oht\\01\\oht01_...  27.10    7.0   11.0   \n",
       "...                                                  ...    ...    ...    ...   \n",
       "59044  3.개방데이터\\1.데이터\\1.Training\\1.원천데이터\\oht\\16\\oht16_...  59.64    8.0   13.0   \n",
       "59045  3.개방데이터\\1.데이터\\1.Training\\1.원천데이터\\oht\\16\\oht16_...  60.00    8.0   12.0   \n",
       "59046  3.개방데이터\\1.데이터\\1.Training\\1.원천데이터\\oht\\16\\oht16_...  60.62    6.0   12.0   \n",
       "59047  3.개방데이터\\1.데이터\\1.Training\\1.원천데이터\\oht\\16\\oht16_...  60.79    8.0   13.0   \n",
       "59048  3.개방데이터\\1.데이터\\1.Training\\1.원천데이터\\oht\\16\\oht16_...  61.40    8.0   12.0   \n",
       "\n",
       "       PM10   CT1     CT2     CT3   CT4  ex_temperature  ex_humidity  \\\n",
       "0      20.0  2.30    1.35    0.35  0.35            23.0         36.0   \n",
       "1      20.0  2.80    0.94    0.64  0.50            22.0         35.0   \n",
       "2      20.0  2.86    0.86    0.68  0.48            23.0         35.0   \n",
       "3      21.0  2.22    1.18    0.68  0.44            22.0         35.0   \n",
       "4      21.0  2.41    1.38    0.60  0.50            22.0         36.0   \n",
       "...     ...   ...     ...     ...   ...             ...          ...   \n",
       "59044  21.0  1.99  144.30  143.93  0.32            22.0         35.0   \n",
       "59045  20.0  2.07  148.51  147.92  0.40            22.0         35.0   \n",
       "59046  20.0  2.33  152.47  152.21  0.34            23.0         36.0   \n",
       "59047  20.0  1.96  156.69  156.30  0.33            23.0         35.0   \n",
       "59048  20.0  2.14  161.21  160.77  0.36            22.0         35.0   \n",
       "\n",
       "       ex_illuminance  \n",
       "0               511.0  \n",
       "1               514.0  \n",
       "2               515.0  \n",
       "3               513.0  \n",
       "4               523.0  \n",
       "...               ...  \n",
       "59044           514.0  \n",
       "59045           514.0  \n",
       "59046           526.0  \n",
       "59047           529.0  \n",
       "59048           520.0  \n",
       "\n",
       "[59049 rows x 12 columns]"
      ]
     },
     "execution_count": 4,
     "metadata": {},
     "output_type": "execute_result"
    }
   ],
   "source": [
    "train_dataset = joblib.load('DataFrame/oht_dataframe_version_2.pkl')\n",
    "seperate_col = ['state','device_id','collection_date','collection_time','cumulative_operating_day']\n",
    "X,y = train_dataset.drop(columns=seperate_col),train_dataset['state']\n",
    "X"
   ]
  },
  {
   "cell_type": "code",
   "execution_count": 5,
   "metadata": {},
   "outputs": [
    {
     "data": {
      "text/html": [
       "<div>\n",
       "<style scoped>\n",
       "    .dataframe tbody tr th:only-of-type {\n",
       "        vertical-align: middle;\n",
       "    }\n",
       "\n",
       "    .dataframe tbody tr th {\n",
       "        vertical-align: top;\n",
       "    }\n",
       "\n",
       "    .dataframe thead th {\n",
       "        text-align: right;\n",
       "    }\n",
       "</style>\n",
       "<table border=\"1\" class=\"dataframe\">\n",
       "  <thead>\n",
       "    <tr style=\"text-align: right;\">\n",
       "      <th></th>\n",
       "      <th>filenames</th>\n",
       "      <th>NTC</th>\n",
       "      <th>PM1.0</th>\n",
       "      <th>PM2.5</th>\n",
       "      <th>PM10</th>\n",
       "      <th>CT1</th>\n",
       "      <th>CT2</th>\n",
       "      <th>CT3</th>\n",
       "      <th>CT4</th>\n",
       "      <th>ex_temperature</th>\n",
       "      <th>ex_humidity</th>\n",
       "      <th>ex_illuminance</th>\n",
       "    </tr>\n",
       "  </thead>\n",
       "  <tbody>\n",
       "    <tr>\n",
       "      <th>0</th>\n",
       "      <td>3.개방데이터\\1.데이터\\2.Validation\\1.원천데이터\\oht\\17\\oht1...</td>\n",
       "      <td>27.00</td>\n",
       "      <td>9.0</td>\n",
       "      <td>12.0</td>\n",
       "      <td>19.0</td>\n",
       "      <td>2.31</td>\n",
       "      <td>1.50</td>\n",
       "      <td>0.51</td>\n",
       "      <td>0.30</td>\n",
       "      <td>23.0</td>\n",
       "      <td>35.0</td>\n",
       "      <td>528.0</td>\n",
       "    </tr>\n",
       "    <tr>\n",
       "      <th>1</th>\n",
       "      <td>3.개방데이터\\1.데이터\\2.Validation\\1.원천데이터\\oht\\17\\oht1...</td>\n",
       "      <td>27.00</td>\n",
       "      <td>8.0</td>\n",
       "      <td>12.0</td>\n",
       "      <td>20.0</td>\n",
       "      <td>2.50</td>\n",
       "      <td>1.92</td>\n",
       "      <td>0.57</td>\n",
       "      <td>0.36</td>\n",
       "      <td>22.0</td>\n",
       "      <td>36.0</td>\n",
       "      <td>521.0</td>\n",
       "    </tr>\n",
       "    <tr>\n",
       "      <th>2</th>\n",
       "      <td>3.개방데이터\\1.데이터\\2.Validation\\1.원천데이터\\oht\\17\\oht1...</td>\n",
       "      <td>27.00</td>\n",
       "      <td>8.0</td>\n",
       "      <td>12.0</td>\n",
       "      <td>20.0</td>\n",
       "      <td>2.82</td>\n",
       "      <td>1.74</td>\n",
       "      <td>0.59</td>\n",
       "      <td>0.40</td>\n",
       "      <td>23.0</td>\n",
       "      <td>35.0</td>\n",
       "      <td>511.0</td>\n",
       "    </tr>\n",
       "    <tr>\n",
       "      <th>3</th>\n",
       "      <td>3.개방데이터\\1.데이터\\2.Validation\\1.원천데이터\\oht\\17\\oht1...</td>\n",
       "      <td>27.09</td>\n",
       "      <td>8.0</td>\n",
       "      <td>12.0</td>\n",
       "      <td>19.0</td>\n",
       "      <td>3.20</td>\n",
       "      <td>1.34</td>\n",
       "      <td>0.71</td>\n",
       "      <td>0.33</td>\n",
       "      <td>22.0</td>\n",
       "      <td>36.0</td>\n",
       "      <td>513.0</td>\n",
       "    </tr>\n",
       "    <tr>\n",
       "      <th>4</th>\n",
       "      <td>3.개방데이터\\1.데이터\\2.Validation\\1.원천데이터\\oht\\17\\oht1...</td>\n",
       "      <td>27.08</td>\n",
       "      <td>8.0</td>\n",
       "      <td>11.0</td>\n",
       "      <td>20.0</td>\n",
       "      <td>2.47</td>\n",
       "      <td>1.74</td>\n",
       "      <td>0.60</td>\n",
       "      <td>0.36</td>\n",
       "      <td>23.0</td>\n",
       "      <td>36.0</td>\n",
       "      <td>513.0</td>\n",
       "    </tr>\n",
       "    <tr>\n",
       "      <th>...</th>\n",
       "      <td>...</td>\n",
       "      <td>...</td>\n",
       "      <td>...</td>\n",
       "      <td>...</td>\n",
       "      <td>...</td>\n",
       "      <td>...</td>\n",
       "      <td>...</td>\n",
       "      <td>...</td>\n",
       "      <td>...</td>\n",
       "      <td>...</td>\n",
       "      <td>...</td>\n",
       "      <td>...</td>\n",
       "    </tr>\n",
       "    <tr>\n",
       "      <th>7337</th>\n",
       "      <td>3.개방데이터\\1.데이터\\2.Validation\\1.원천데이터\\oht\\18\\oht1...</td>\n",
       "      <td>64.78</td>\n",
       "      <td>9.0</td>\n",
       "      <td>12.0</td>\n",
       "      <td>20.0</td>\n",
       "      <td>2.01</td>\n",
       "      <td>146.37</td>\n",
       "      <td>145.55</td>\n",
       "      <td>0.41</td>\n",
       "      <td>23.0</td>\n",
       "      <td>36.0</td>\n",
       "      <td>513.0</td>\n",
       "    </tr>\n",
       "    <tr>\n",
       "      <th>7338</th>\n",
       "      <td>3.개방데이터\\1.데이터\\2.Validation\\1.원천데이터\\oht\\18\\oht1...</td>\n",
       "      <td>65.40</td>\n",
       "      <td>9.0</td>\n",
       "      <td>12.0</td>\n",
       "      <td>20.0</td>\n",
       "      <td>2.42</td>\n",
       "      <td>149.82</td>\n",
       "      <td>149.17</td>\n",
       "      <td>0.49</td>\n",
       "      <td>22.0</td>\n",
       "      <td>36.0</td>\n",
       "      <td>515.0</td>\n",
       "    </tr>\n",
       "    <tr>\n",
       "      <th>7339</th>\n",
       "      <td>3.개방데이터\\1.데이터\\2.Validation\\1.원천데이터\\oht\\18\\oht1...</td>\n",
       "      <td>65.66</td>\n",
       "      <td>8.0</td>\n",
       "      <td>11.0</td>\n",
       "      <td>20.0</td>\n",
       "      <td>2.42</td>\n",
       "      <td>153.12</td>\n",
       "      <td>152.81</td>\n",
       "      <td>0.34</td>\n",
       "      <td>22.0</td>\n",
       "      <td>35.0</td>\n",
       "      <td>526.0</td>\n",
       "    </tr>\n",
       "    <tr>\n",
       "      <th>7340</th>\n",
       "      <td>3.개방데이터\\1.데이터\\2.Validation\\1.원천데이터\\oht\\18\\oht1...</td>\n",
       "      <td>66.10</td>\n",
       "      <td>8.0</td>\n",
       "      <td>12.0</td>\n",
       "      <td>20.0</td>\n",
       "      <td>2.10</td>\n",
       "      <td>157.26</td>\n",
       "      <td>156.37</td>\n",
       "      <td>0.41</td>\n",
       "      <td>22.0</td>\n",
       "      <td>35.0</td>\n",
       "      <td>526.0</td>\n",
       "    </tr>\n",
       "    <tr>\n",
       "      <th>7341</th>\n",
       "      <td>3.개방데이터\\1.데이터\\2.Validation\\1.원천데이터\\oht\\18\\oht1...</td>\n",
       "      <td>66.10</td>\n",
       "      <td>8.0</td>\n",
       "      <td>11.0</td>\n",
       "      <td>21.0</td>\n",
       "      <td>2.20</td>\n",
       "      <td>159.48</td>\n",
       "      <td>158.57</td>\n",
       "      <td>0.49</td>\n",
       "      <td>23.0</td>\n",
       "      <td>36.0</td>\n",
       "      <td>530.0</td>\n",
       "    </tr>\n",
       "  </tbody>\n",
       "</table>\n",
       "<p>7342 rows × 12 columns</p>\n",
       "</div>"
      ],
      "text/plain": [
       "                                              filenames    NTC  PM1.0  PM2.5  \\\n",
       "0     3.개방데이터\\1.데이터\\2.Validation\\1.원천데이터\\oht\\17\\oht1...  27.00    9.0   12.0   \n",
       "1     3.개방데이터\\1.데이터\\2.Validation\\1.원천데이터\\oht\\17\\oht1...  27.00    8.0   12.0   \n",
       "2     3.개방데이터\\1.데이터\\2.Validation\\1.원천데이터\\oht\\17\\oht1...  27.00    8.0   12.0   \n",
       "3     3.개방데이터\\1.데이터\\2.Validation\\1.원천데이터\\oht\\17\\oht1...  27.09    8.0   12.0   \n",
       "4     3.개방데이터\\1.데이터\\2.Validation\\1.원천데이터\\oht\\17\\oht1...  27.08    8.0   11.0   \n",
       "...                                                 ...    ...    ...    ...   \n",
       "7337  3.개방데이터\\1.데이터\\2.Validation\\1.원천데이터\\oht\\18\\oht1...  64.78    9.0   12.0   \n",
       "7338  3.개방데이터\\1.데이터\\2.Validation\\1.원천데이터\\oht\\18\\oht1...  65.40    9.0   12.0   \n",
       "7339  3.개방데이터\\1.데이터\\2.Validation\\1.원천데이터\\oht\\18\\oht1...  65.66    8.0   11.0   \n",
       "7340  3.개방데이터\\1.데이터\\2.Validation\\1.원천데이터\\oht\\18\\oht1...  66.10    8.0   12.0   \n",
       "7341  3.개방데이터\\1.데이터\\2.Validation\\1.원천데이터\\oht\\18\\oht1...  66.10    8.0   11.0   \n",
       "\n",
       "      PM10   CT1     CT2     CT3   CT4  ex_temperature  ex_humidity  \\\n",
       "0     19.0  2.31    1.50    0.51  0.30            23.0         35.0   \n",
       "1     20.0  2.50    1.92    0.57  0.36            22.0         36.0   \n",
       "2     20.0  2.82    1.74    0.59  0.40            23.0         35.0   \n",
       "3     19.0  3.20    1.34    0.71  0.33            22.0         36.0   \n",
       "4     20.0  2.47    1.74    0.60  0.36            23.0         36.0   \n",
       "...    ...   ...     ...     ...   ...             ...          ...   \n",
       "7337  20.0  2.01  146.37  145.55  0.41            23.0         36.0   \n",
       "7338  20.0  2.42  149.82  149.17  0.49            22.0         36.0   \n",
       "7339  20.0  2.42  153.12  152.81  0.34            22.0         35.0   \n",
       "7340  20.0  2.10  157.26  156.37  0.41            22.0         35.0   \n",
       "7341  21.0  2.20  159.48  158.57  0.49            23.0         36.0   \n",
       "\n",
       "      ex_illuminance  \n",
       "0              528.0  \n",
       "1              521.0  \n",
       "2              511.0  \n",
       "3              513.0  \n",
       "4              513.0  \n",
       "...              ...  \n",
       "7337           513.0  \n",
       "7338           515.0  \n",
       "7339           526.0  \n",
       "7340           526.0  \n",
       "7341           530.0  \n",
       "\n",
       "[7342 rows x 12 columns]"
      ]
     },
     "execution_count": 5,
     "metadata": {},
     "output_type": "execute_result"
    }
   ],
   "source": [
    "test_dataset = joblib.load('DataFrame/oht_test_17_18.pkl')\n",
    "seperate_col = ['state','device_id','collection_date','collection_time','cumulative_operating_day']\n",
    "X_test,y_test = test_dataset.drop(columns=seperate_col),test_dataset['state']\n",
    "X_test"
   ]
  },
  {
   "cell_type": "code",
   "execution_count": 6,
   "metadata": {},
   "outputs": [
    {
     "name": "stdout",
     "output_type": "stream",
     "text": [
      "59049\n",
      "torch.Size([1, 120, 160]) torch.Size([11]) 0\n",
      "7342\n",
      "torch.Size([1, 120, 160]) torch.Size([11]) 0\n"
     ]
    }
   ],
   "source": [
    "class MultimodalDataset(Dataset):\n",
    "    \"\"\"사용자 정의 멀티모달 데이터셋\"\"\"\n",
    "    def __init__(self,X:pandas.DataFrame,y:pandas.Series):\n",
    "        \"\"\"필요한 데이터를 이곳에서 선언\n",
    "        Parameter:\n",
    "        X: 열화상 이미지와 센서데이터의 데이터 프레임\n",
    "        y: 정답 데이터의\n",
    "        \"\"\"\n",
    "        self.X = X\n",
    "        self.y = y\n",
    "    def __getitem__(self, index):\n",
    "        \"\"\"열화상 이미지 [1,120,160]크기와 센서 데이터 11개의 칼럼 그리고 이에 해당하는 정답 데이터 반환\"\"\"\n",
    "        image = torch.tensor(np.load(self.X.iloc[index]['filenames']),dtype=torch.float32).unsqueeze(0)\n",
    "        sensor_features = self.X.drop(columns=['filenames'])\n",
    "        sensor_features = torch.tensor(sensor_features.iloc[index].values,dtype=torch.float32)\n",
    "        label = int(self.y.iloc[index]) # 나중에 학습하는데 있어서 느려지게하는 요인이면 데이터 프레임 자체에서 변경함함\n",
    "        return image, sensor_features, label\n",
    "    \n",
    "    def __len__(self):\n",
    "        return len(self.X)\n",
    "\n",
    "train_dataset = MultimodalDataset(X,y)\n",
    "test_dataset = MultimodalDataset(X_test,y_test)\n",
    "\n",
    "train_image,train_sensor_features,train_label = train_dataset[0]\n",
    "test_image,test_sensor_features,test_label = test_dataset[0]\n",
    "\n",
    "print(len(train_dataset))\n",
    "print(train_image.shape,train_sensor_features.shape,train_label)\n",
    "\n",
    "print(len(test_dataset))\n",
    "print(test_image.shape,test_sensor_features.shape,test_label)"
   ]
  },
  {
   "cell_type": "code",
   "execution_count": 7,
   "metadata": {},
   "outputs": [
    {
     "name": "stdout",
     "output_type": "stream",
     "text": [
      "3691 459\n"
     ]
    }
   ],
   "source": [
    "train_dataloader = DataLoader(train_dataset,batch_size=16,shuffle=False)\n",
    "test_dataloader = DataLoader(test_dataset,batch_size=16,shuffle=False)\n",
    "print(len(train_dataloader),len(test_dataloader))"
   ]
  },
  {
   "cell_type": "code",
   "execution_count": 8,
   "metadata": {},
   "outputs": [],
   "source": [
    "class ViTFeatureExtractor(nn.Module):\n",
    "    def __init__(self, img_dim_h, img_dim_w, patch_size, embed_dim, num_heads, depth):\n",
    "        super().__init__()\n",
    "        # Transformer 설정\n",
    "        self.vit = nn.Transformer(\n",
    "            d_model=embed_dim,\n",
    "            nhead=num_heads,\n",
    "            num_encoder_layers=depth,\n",
    "            batch_first=True\n",
    "        )\n",
    "        # Patch embedding: 채널을 1로 설정\n",
    "        self.patch_embed = nn.Conv2d(1, embed_dim, kernel_size=patch_size, stride=patch_size)\n",
    "        # 포지셔널 임베딩\n",
    "        num_patches = (img_dim_h // patch_size) * (img_dim_w // patch_size)\n",
    "        self.pos_embedding = nn.Parameter(torch.randn(1, num_patches, embed_dim))\n",
    "\n",
    "    def forward(self, x):\n",
    "        # x: [batch_size, 1, img_dim_h, img_dim_w]\n",
    "        patches = self.patch_embed(x).flatten(2).transpose(1, 2)  # [batch_size, num_patches, embed_dim]\n",
    "        x = patches + self.pos_embedding  # Positional embedding 추가\n",
    "        x = self.vit(x, x)  # [batch_size, num_patches, embed_dim]\n",
    "        return x.mean(dim=1)  # [batch_size, embed_dim]\n",
    "\n",
    "class SoftLabelEncoder(nn.Module):\n",
    "    def __init__(self, aux_input_dim, embed_dim):\n",
    "        super().__init__()\n",
    "        self.fc = nn.Sequential(\n",
    "            nn.Linear(aux_input_dim, embed_dim),\n",
    "            nn.ReLU(),\n",
    "            nn.Linear(embed_dim, embed_dim)\n",
    "        )\n",
    "\n",
    "    def forward(self, aux_data):\n",
    "        return self.fc(aux_data)\n",
    "\n",
    "class CrossAttention(nn.Module):\n",
    "    def __init__(self, embed_dim, num_heads):\n",
    "        super().__init__()\n",
    "        self.attention = nn.MultiheadAttention(embed_dim, num_heads, batch_first=True)\n",
    "\n",
    "    def forward(self, query, key):\n",
    "        attn_output, _ = self.attention(query, key, key)\n",
    "        return attn_output\n",
    "\n",
    "class ConditionClassifier(nn.Module):\n",
    "    def __init__(self, img_dim_h,img_dim_w, patch_size, embed_dim, num_heads, depth, aux_input_dim, num_classes):\n",
    "        super().__init__()\n",
    "        self.vit = ViTFeatureExtractor(img_dim_h, img_dim_w, patch_size, embed_dim, num_heads, depth)\n",
    "        self.soft_label_encoder = SoftLabelEncoder(aux_input_dim, embed_dim)\n",
    "        self.cross_attention = CrossAttention(embed_dim, num_heads)\n",
    "        self.classifier = nn.Sequential(\n",
    "            nn.Linear(embed_dim, embed_dim),\n",
    "            nn.ReLU(),\n",
    "            nn.Linear(embed_dim, num_classes)\n",
    "        )\n",
    "\n",
    "    def forward(self, images, aux_data):\n",
    "        # Feature extraction\n",
    "        visual_features = self.vit(images)  # [batch_size, embed_dim]\n",
    "        aux_features = self.soft_label_encoder(aux_data)  # [batch_size, embed_dim]\n",
    "\n",
    "        # Cross attention\n",
    "        visual_features = visual_features.unsqueeze(1)  # [batch_size, 1, embed_dim]\n",
    "        aux_features = aux_features.unsqueeze(1)  # [batch_size, 1, embed_dim]\n",
    "        integrated_features = self.cross_attention(visual_features, aux_features).squeeze(1)\n",
    "\n",
    "        # Classification\n",
    "        output = self.classifier(integrated_features)  # [batch_size, num_classes]\n",
    "        return output\n",
    "    \n",
    "img_dim_h = 120  # 열화상 이미지 세로 크기\n",
    "img_dim_w = 160  # 열화상 이미지 가로 크기\n",
    "patch_size = 16\n",
    "embed_dim = 256\n",
    "num_heads = 8\n",
    "depth = 6\n",
    "aux_input_dim = 11  # 보조 데이터 차원 (예: 온도, 습도 등)\n",
    "num_classes = 4  # 0:정상,1:관심,2:주의,3:위험\n",
    "model = ConditionClassifier(img_dim_w, img_dim_h, patch_size, embed_dim, num_heads, depth, aux_input_dim, num_classes)"
   ]
  },
  {
   "cell_type": "code",
   "execution_count": 9,
   "metadata": {},
   "outputs": [
    {
     "name": "stderr",
     "output_type": "stream",
     "text": [
      "c:\\Users\\hyssk\\anaconda3\\envs\\pytorch_cuda_11_8\\lib\\site-packages\\tqdm\\auto.py:21: TqdmWarning: IProgress not found. Please update jupyter and ipywidgets. See https://ipywidgets.readthedocs.io/en/stable/user_install.html\n",
      "  from .autonotebook import tqdm as notebook_tqdm\n"
     ]
    }
   ],
   "source": [
    "from tqdm.auto import tqdm\n",
    "def train_step(model:torch.nn.Module,\n",
    "               train_loader:torch.utils.data.DataLoader,\n",
    "               loss_fn: torch.nn.Module,\n",
    "               optimizer: torch.optim,\n",
    "               device:torch.device='cuda'):\n",
    "    model.train()\n",
    "    # 모델도 GPU 환경으로 보내기 (모델 학습시 GPU 학습 가속화)\n",
    "    model = model.to(device)\n",
    "    train_loss, train_acc = 0.0, 0.0\n",
    "    for batch_images,batch_features,target in tqdm(train_loader):\n",
    "        # GPU 상으로 데이터 보내기 (모델 학습시 GPU 학습 가속화)\n",
    "        batch_images,batch_features,target = batch_images.to(device),batch_features.to(device),target.to(device)\n",
    "        # 데이터 -> 모델 입력 \n",
    "        y_pred = model(batch_images,batch_features)\n",
    "        # 로스값 계산\n",
    "        loss = loss_fn(y_pred,target)\n",
    "        train_loss += loss.item()\n",
    "        # 최적화 기울기 초기화\n",
    "        optimizer.zero_grad()\n",
    "        # 역전파 Loss Backward\n",
    "        loss.backward()\n",
    "        # Optimizer Step 가중치 업데이트\n",
    "        optimizer.step()\n",
    "        # 정확도 계산\n",
    "        y_pred_class = torch.argmax(F.softmax(y_pred,dim=1),dim=1)\n",
    "        train_acc += ((y_pred_class==target).sum().item()/len(y_pred))\n",
    "    train_loss,train_acc = train_loss/len(train_loader), train_acc/len(train_loader)\n",
    "    return train_loss,train_acc\n",
    "\n",
    "def test_step(model:torch.nn.Module,\n",
    "              test_loader:torch.utils.data.DataLoader,\n",
    "              loss_fn:torch.nn.Module,\n",
    "              device:torch.device='cuda'):\n",
    "    # 평가 모드\n",
    "    model.eval()\n",
    "    test_loss,test_acc = 0.0, 0.0\n",
    "    # 추론 모드\n",
    "    with torch.inference_mode():\n",
    "        for batch_images,batch_features,target in tqdm(test_loader):\n",
    "            # GPU 상으로 데이터 보내기 (모델 학습시 GPU 학습 가속화)\n",
    "            batch_images,batch_features,target = batch_images.to(device),batch_features.to(device),target.to(device)\n",
    "            \n",
    "            # 데이터 -> 모델 입력 \n",
    "            test_pred_logits = model(batch_images,batch_features)\n",
    "            \n",
    "            # 로스 계산\n",
    "            loss = loss_fn(test_pred_logits,target)\n",
    "            test_loss += loss.item()\n",
    "            \n",
    "            # 정확도 계산\n",
    "            test_pred_class = torch.argmax(F.softmax(test_pred_logits,dim=1),dim=1)\n",
    "            test_acc += ((test_pred_class==target).sum().item()/len(test_pred_logits))\n",
    "    test_loss = test_loss / len(test_loader)\n",
    "    test_acc = test_acc / len(test_loader)        \n",
    "    return test_loss,test_acc"
   ]
  },
  {
   "cell_type": "code",
   "execution_count": 10,
   "metadata": {},
   "outputs": [],
   "source": [
    "from torch.optim import Adam\n",
    "class FocalLoss(nn.Module):\n",
    "    def __init__(self, alpha=1, gamma=2):\n",
    "        super(FocalLoss, self).__init__()\n",
    "        self.alpha = alpha\n",
    "        self.gamma = gamma\n",
    "        self.ce_loss = nn.CrossEntropyLoss(reduction='none')\n",
    "\n",
    "    def forward(self, logits, targets):\n",
    "        ce_loss = self.ce_loss(logits, targets)\n",
    "        pt = torch.exp(-ce_loss)  # 예측 확률\n",
    "        focal_loss = self.alpha * ((1 - pt) ** self.gamma) * ce_loss\n",
    "        return focal_loss.mean()\n",
    "\n",
    "focal_loss = FocalLoss(alpha=0.25, gamma=2) # Focal Loss 파라미터 초기화\n",
    "optimizer = Adam(model.parameters(),lr=0.00005)"
   ]
  },
  {
   "cell_type": "code",
   "execution_count": 11,
   "metadata": {},
   "outputs": [
    {
     "name": "stdout",
     "output_type": "stream",
     "text": [
      "THIS IS 1 times\n"
     ]
    },
    {
     "name": "stderr",
     "output_type": "stream",
     "text": [
      "  0%|          | 0/3691 [00:00<?, ?it/s]c:\\Users\\hyssk\\anaconda3\\envs\\pytorch_cuda_11_8\\lib\\site-packages\\torch\\nn\\functional.py:5560: UserWarning: 1Torch was not compiled with flash attention. (Triggered internally at C:\\actions-runner\\_work\\pytorch\\pytorch\\builder\\windows\\pytorch\\aten\\src\\ATen\\native\\transformers\\cuda\\sdp_utils.cpp:555.)\n",
      "  attn_output = scaled_dot_product_attention(q, k, v, attn_mask, dropout_p, is_causal)\n",
      "100%|██████████| 3691/3691 [14:02<00:00,  4.38it/s]\n"
     ]
    },
    {
     "name": "stdout",
     "output_type": "stream",
     "text": [
      "train_loss:0.15158049048866945 | train_acc:0.44725345434841507\n"
     ]
    },
    {
     "name": "stderr",
     "output_type": "stream",
     "text": [
      "100%|██████████| 459/459 [01:14<00:00,  6.18it/s]\n"
     ]
    },
    {
     "name": "stdout",
     "output_type": "stream",
     "text": [
      "test_loss:0.10538154571841085 | test_acc:0.48856209150326796\n",
      "Best Model was saved. | test_acc : 0.48856209150326796\n",
      "----------------------------------------------------------------------------------------------------\n",
      "THIS IS 2 times\n"
     ]
    },
    {
     "name": "stderr",
     "output_type": "stream",
     "text": [
      "100%|██████████| 3691/3691 [13:21<00:00,  4.60it/s]\n"
     ]
    },
    {
     "name": "stdout",
     "output_type": "stream",
     "text": [
      "train_loss:0.07936826882618465 | train_acc:0.5578434028718504\n"
     ]
    },
    {
     "name": "stderr",
     "output_type": "stream",
     "text": [
      "100%|██████████| 459/459 [01:09<00:00,  6.65it/s]\n"
     ]
    },
    {
     "name": "stdout",
     "output_type": "stream",
     "text": [
      "test_loss:0.05084195469105083 | test_acc:0.5194716775599129\n",
      "Best Model was saved. | test_acc : 0.5194716775599129\n",
      "----------------------------------------------------------------------------------------------------\n",
      "THIS IS 3 times\n"
     ]
    },
    {
     "name": "stderr",
     "output_type": "stream",
     "text": [
      "100%|██████████| 3691/3691 [14:39<00:00,  4.20it/s]   \n"
     ]
    },
    {
     "name": "stdout",
     "output_type": "stream",
     "text": [
      "train_loss:0.06965156620386397 | train_acc:0.6140781630994311\n"
     ]
    },
    {
     "name": "stderr",
     "output_type": "stream",
     "text": [
      "100%|██████████| 459/459 [01:09<00:00,  6.58it/s]\n"
     ]
    },
    {
     "name": "stdout",
     "output_type": "stream",
     "text": [
      "test_loss:0.04064854944674996 | test_acc:0.8367374727668845\n",
      "Best Model was saved. | test_acc : 0.8367374727668845\n",
      "----------------------------------------------------------------------------------------------------\n",
      "THIS IS 4 times\n"
     ]
    },
    {
     "name": "stderr",
     "output_type": "stream",
     "text": [
      "100%|██████████| 3691/3691 [15:02<00:00,  4.09it/s]   \n"
     ]
    },
    {
     "name": "stdout",
     "output_type": "stream",
     "text": [
      "train_loss:0.06172103034257434 | train_acc:0.6375643457057708\n"
     ]
    },
    {
     "name": "stderr",
     "output_type": "stream",
     "text": [
      "100%|██████████| 459/459 [01:11<00:00,  6.46it/s]\n"
     ]
    },
    {
     "name": "stdout",
     "output_type": "stream",
     "text": [
      "test_loss:0.03977361724387536 | test_acc:0.7956154684095861\n",
      "----------------------------------------------------------------------------------------------------\n",
      "THIS IS 5 times\n"
     ]
    },
    {
     "name": "stderr",
     "output_type": "stream",
     "text": [
      "100%|██████████| 3691/3691 [14:13<00:00,  4.32it/s]\n"
     ]
    },
    {
     "name": "stdout",
     "output_type": "stream",
     "text": [
      "train_loss:0.054257474744480345 | train_acc:0.6852986995394202\n"
     ]
    },
    {
     "name": "stderr",
     "output_type": "stream",
     "text": [
      "100%|██████████| 459/459 [00:45<00:00, 10.10it/s]\n"
     ]
    },
    {
     "name": "stdout",
     "output_type": "stream",
     "text": [
      "test_loss:0.034049930798644754 | test_acc:0.7696078431372549\n",
      "----------------------------------------------------------------------------------------------------\n",
      "THIS IS 6 times\n"
     ]
    },
    {
     "name": "stderr",
     "output_type": "stream",
     "text": [
      "100%|██████████| 3691/3691 [14:04<00:00,  4.37it/s]\n"
     ]
    },
    {
     "name": "stdout",
     "output_type": "stream",
     "text": [
      "train_loss:0.051218952701519486 | train_acc:0.6989636954754809\n"
     ]
    },
    {
     "name": "stderr",
     "output_type": "stream",
     "text": [
      "100%|██████████| 459/459 [01:13<00:00,  6.21it/s]\n"
     ]
    },
    {
     "name": "stdout",
     "output_type": "stream",
     "text": [
      "test_loss:0.03170856915934749 | test_acc:0.7915305010893247\n",
      "----------------------------------------------------------------------------------------------------\n",
      "THIS IS 7 times\n"
     ]
    },
    {
     "name": "stderr",
     "output_type": "stream",
     "text": [
      "100%|██████████| 3691/3691 [14:15<00:00,  4.31it/s]\n"
     ]
    },
    {
     "name": "stdout",
     "output_type": "stream",
     "text": [
      "train_loss:0.04881354712996222 | train_acc:0.7177424817122731\n"
     ]
    },
    {
     "name": "stderr",
     "output_type": "stream",
     "text": [
      "100%|██████████| 459/459 [01:13<00:00,  6.27it/s]\n"
     ]
    },
    {
     "name": "stdout",
     "output_type": "stream",
     "text": [
      "test_loss:0.030129170112707875 | test_acc:0.8081427015250545\n",
      "----------------------------------------------------------------------------------------------------\n",
      "THIS IS 8 times\n"
     ]
    },
    {
     "name": "stderr",
     "output_type": "stream",
     "text": [
      "100%|██████████| 3691/3691 [14:07<00:00,  4.36it/s]\n"
     ]
    },
    {
     "name": "stdout",
     "output_type": "stream",
     "text": [
      "train_loss:0.04394822909054073 | train_acc:0.7406698726632349\n"
     ]
    },
    {
     "name": "stderr",
     "output_type": "stream",
     "text": [
      "100%|██████████| 459/459 [01:11<00:00,  6.41it/s]\n"
     ]
    },
    {
     "name": "stdout",
     "output_type": "stream",
     "text": [
      "test_loss:0.02816282417534791 | test_acc:0.8311546840958606\n",
      "----------------------------------------------------------------------------------------------------\n",
      "THIS IS 9 times\n"
     ]
    },
    {
     "name": "stderr",
     "output_type": "stream",
     "text": [
      "100%|██████████| 3691/3691 [14:10<00:00,  4.34it/s]\n"
     ]
    },
    {
     "name": "stdout",
     "output_type": "stream",
     "text": [
      "train_loss:0.04271265568426617 | train_acc:0.7489670820915741\n"
     ]
    },
    {
     "name": "stderr",
     "output_type": "stream",
     "text": [
      "100%|██████████| 459/459 [00:11<00:00, 41.61it/s]\n"
     ]
    },
    {
     "name": "stdout",
     "output_type": "stream",
     "text": [
      "test_loss:0.0275900313981209 | test_acc:0.8366013071895425\n",
      "----------------------------------------------------------------------------------------------------\n",
      "THIS IS 10 times\n"
     ]
    },
    {
     "name": "stderr",
     "output_type": "stream",
     "text": [
      "100%|██████████| 3691/3691 [13:22<00:00,  4.60it/s]\n"
     ]
    },
    {
     "name": "stdout",
     "output_type": "stream",
     "text": [
      "train_loss:0.040133097490723725 | train_acc:0.7702519642373341\n"
     ]
    },
    {
     "name": "stderr",
     "output_type": "stream",
     "text": [
      "100%|██████████| 459/459 [01:10<00:00,  6.47it/s]\n"
     ]
    },
    {
     "name": "stdout",
     "output_type": "stream",
     "text": [
      "test_loss:0.025717535715016664 | test_acc:0.8545751633986928\n",
      "Best Model was saved. | test_acc : 0.8545751633986928\n",
      "----------------------------------------------------------------------------------------------------\n",
      "THIS IS 11 times\n"
     ]
    },
    {
     "name": "stderr",
     "output_type": "stream",
     "text": [
      "100%|██████████| 3691/3691 [14:06<00:00,  4.36it/s]\n"
     ]
    },
    {
     "name": "stdout",
     "output_type": "stream",
     "text": [
      "train_loss:0.03869604058200203 | train_acc:0.7847466811162287\n"
     ]
    },
    {
     "name": "stderr",
     "output_type": "stream",
     "text": [
      "100%|██████████| 459/459 [01:08<00:00,  6.72it/s]\n"
     ]
    },
    {
     "name": "stdout",
     "output_type": "stream",
     "text": [
      "test_loss:0.025860779969722688 | test_acc:0.877859477124183\n",
      "Best Model was saved. | test_acc : 0.877859477124183\n",
      "----------------------------------------------------------------------------------------------------\n",
      "THIS IS 12 times\n"
     ]
    },
    {
     "name": "stderr",
     "output_type": "stream",
     "text": [
      "100%|██████████| 3691/3691 [14:08<00:00,  4.35it/s]\n"
     ]
    },
    {
     "name": "stdout",
     "output_type": "stream",
     "text": [
      "train_loss:0.036914949106434135 | train_acc:0.792112571118938\n"
     ]
    },
    {
     "name": "stderr",
     "output_type": "stream",
     "text": [
      "100%|██████████| 459/459 [01:08<00:00,  6.69it/s]\n"
     ]
    },
    {
     "name": "stdout",
     "output_type": "stream",
     "text": [
      "test_loss:0.026316080413036305 | test_acc:0.8955610021786492\n",
      "Best Model was saved. | test_acc : 0.8955610021786492\n",
      "----------------------------------------------------------------------------------------------------\n",
      "THIS IS 13 times\n"
     ]
    },
    {
     "name": "stderr",
     "output_type": "stream",
     "text": [
      "100%|██████████| 3691/3691 [14:01<00:00,  4.39it/s]\n"
     ]
    },
    {
     "name": "stdout",
     "output_type": "stream",
     "text": [
      "train_loss:0.03414672361354006 | train_acc:0.8077248713085885\n"
     ]
    },
    {
     "name": "stderr",
     "output_type": "stream",
     "text": [
      "100%|██████████| 459/459 [01:06<00:00,  6.94it/s]\n"
     ]
    },
    {
     "name": "stdout",
     "output_type": "stream",
     "text": [
      "test_loss:0.02325929294457617 | test_acc:0.9003267973856209\n",
      "Best Model was saved. | test_acc : 0.9003267973856209\n",
      "----------------------------------------------------------------------------------------------------\n",
      "THIS IS 14 times\n"
     ]
    },
    {
     "name": "stderr",
     "output_type": "stream",
     "text": [
      "100%|██████████| 3691/3691 [13:02<00:00,  4.72it/s]\n"
     ]
    },
    {
     "name": "stdout",
     "output_type": "stream",
     "text": [
      "train_loss:0.0347396330287899 | train_acc:0.8097229748035762\n"
     ]
    },
    {
     "name": "stderr",
     "output_type": "stream",
     "text": [
      "100%|██████████| 459/459 [00:36<00:00, 12.67it/s]\n"
     ]
    },
    {
     "name": "stdout",
     "output_type": "stream",
     "text": [
      "test_loss:0.02173265707362239 | test_acc:0.906181917211329\n",
      "Best Model was saved. | test_acc : 0.906181917211329\n",
      "----------------------------------------------------------------------------------------------------\n",
      "THIS IS 15 times\n"
     ]
    },
    {
     "name": "stderr",
     "output_type": "stream",
     "text": [
      "100%|██████████| 3691/3691 [14:01<00:00,  4.39it/s]\n"
     ]
    },
    {
     "name": "stdout",
     "output_type": "stream",
     "text": [
      "train_loss:0.03214435740327302 | train_acc:0.8163776754267136\n"
     ]
    },
    {
     "name": "stderr",
     "output_type": "stream",
     "text": [
      "100%|██████████| 459/459 [01:08<00:00,  6.72it/s]"
     ]
    },
    {
     "name": "stdout",
     "output_type": "stream",
     "text": [
      "test_loss:0.022615953345864828 | test_acc:0.9045479302832244\n",
      "----------------------------------------------------------------------------------------------------\n"
     ]
    },
    {
     "name": "stderr",
     "output_type": "stream",
     "text": [
      "\n"
     ]
    }
   ],
   "source": [
    "EPOCHS = 15\n",
    "results = {'train_acc':[],'train_loss':[],'test_acc':[],'test_loss':[]}\n",
    "maximum_test_acc = 0\n",
    "\n",
    "for epoch in range(1,EPOCHS+1,1):\n",
    "    print(f\"THIS IS {epoch} times\")\n",
    "    train_loss,train_acc = train_step(model,train_dataloader,focal_loss,optimizer)\n",
    "    results['train_acc'].append(train_acc)\n",
    "    results['train_loss'].append(train_loss)\n",
    "    print(f'train_loss:{train_loss} | train_acc:{train_acc}')\n",
    "    \n",
    "    test_loss,test_acc = test_step(model,test_dataloader,focal_loss)\n",
    "    results['test_acc'].append(test_acc)\n",
    "    results['test_loss'].append(test_loss)\n",
    "    \n",
    "    print(f'test_loss:{test_loss} | test_acc:{test_acc}')\n",
    "    \n",
    "    if maximum_test_acc < test_acc:\n",
    "        maximum_test_acc = test_acc\n",
    "        torch.save(model,'17_18_OHT_Best_Model.pth')\n",
    "        print(f'Best Model was saved. | test_acc : {test_acc}')\n",
    "    else:\n",
    "        pass\n",
    "    print('-'*100)"
   ]
  },
  {
   "cell_type": "code",
   "execution_count": 14,
   "metadata": {},
   "outputs": [
    {
     "data": {
      "image/png": "[encoded data removed]",
      "text/plain": [
       "<Figure size 640x480 with 1 Axes>"
      ]
     },
     "metadata": {},
     "output_type": "display_data"
    },
    {
     "data": {
      "image/png": "[encoded data removed]",
      "text/plain": [
       "<Figure size 640x480 with 1 Axes>"
      ]
     },
     "metadata": {},
     "output_type": "display_data"
    }
   ],
   "source": [
    "import matplotlib.pyplot as plt\n",
    "\n",
    "plt.figure()\n",
    "plt.plot(results['train_acc'],label='train_acc')\n",
    "plt.plot(results['test_acc'],label='test_acc')\n",
    "plt.legend()\n",
    "plt.xlabel('Epochs')\n",
    "plt.show()\n",
    "\n",
    "plt.figure()\n",
    "plt.plot(results['train_loss'],label='train_loss')\n",
    "plt.plot(results['test_loss'],label='test_loss')\n",
    "plt.legend()\n",
    "plt.xlabel('Epochs')\n",
    "plt.show()"
   ]
  },
  {
   "cell_type": "code",
   "execution_count": 10,
   "metadata": {},
   "outputs": [],
   "source": [
    "# from sklearn.metrics import confusion_matrix, ConfusionMatrixDisplay, classification_report\n",
    "# model.eval()\n",
    "# # test_dataloader = iter(test_dataloader)\n",
    "# # images, features, targets = next(test_dataloader)\n",
    "# # print(images.shape,features.shape)\n",
    "\n",
    "# # images, features, targets = images.to('cuda'), features.to('cuda'), targets.to('cuda')\n",
    "# with torch.inference_mode():\n",
    "#     # print(test_step(model,test_dataloader,focal_loss))\n",
    "#     print(torch.argmax(F.softmax(model(images,features),dim=1),dim=1))"
   ]
  },
  {
   "cell_type": "code",
   "execution_count": 15,
   "metadata": {},
   "outputs": [],
   "source": [
    "torch.save(model.state_dict(), 'Parameters/17_18_OHT_Best_Model_Weights.pth')"
   ]
  },
  {
   "cell_type": "code",
   "execution_count": 16,
   "metadata": {},
   "outputs": [
    {
     "name": "stdout",
     "output_type": "stream",
     "text": [
      "tensor([0., 0., 0.,  ..., 3., 3., 3.], device='cuda:0')\n",
      "tensor([0., 0., 0.,  ..., 3., 3., 3.], device='cuda:0')\n"
     ]
    }
   ],
   "source": [
    "y_true = torch.tensor([]).to(device='cuda')\n",
    "y_pred = torch.tensor([]).to(device='cuda')\n",
    "\n",
    "with torch.inference_mode():\n",
    "    model.eval()\n",
    "    model.to('cuda')\n",
    "    for images,features,targets in test_dataloader:\n",
    "        images, features, targets = images.to('cuda'), features.to('cuda'), targets.to('cuda')\n",
    "        predictions = torch.argmax(F.softmax(model(images,features),dim=1),dim=1)\n",
    "        y_pred = torch.cat((y_pred, predictions))\n",
    "        y_true = torch.cat((y_true, targets))\n",
    "print(y_pred)\n",
    "print(y_true)"
   ]
  },
  {
   "cell_type": "code",
   "execution_count": 17,
   "metadata": {},
   "outputs": [
    {
     "data": {
      "image/png": "[encoded data removed]",
      "text/plain": [
       "<Figure size 640x480 with 2 Axes>"
      ]
     },
     "metadata": {},
     "output_type": "display_data"
    },
    {
     "name": "stdout",
     "output_type": "stream",
     "text": [
      "              precision    recall  f1-score   support\n",
      "\n",
      "         0.0       0.92      0.98      0.95      3059\n",
      "         1.0       0.95      0.73      0.82      1804\n",
      "         2.0       0.87      0.93      0.90      1819\n",
      "         3.0       0.84      0.98      0.91       660\n",
      "\n",
      "    accuracy                           0.90      7342\n",
      "   macro avg       0.90      0.90      0.89      7342\n",
      "weighted avg       0.91      0.90      0.90      7342\n",
      "\n"
     ]
    }
   ],
   "source": [
    "from sklearn.metrics import confusion_matrix, ConfusionMatrixDisplay, classification_report\n",
    "y_true = y_true.cpu()\n",
    "y_pred = y_pred.cpu()\n",
    "cm = confusion_matrix(y_true,y_pred)\n",
    "ConfusionMatrixDisplay(cm).plot(cmap='Blues')\n",
    "plt.show()\n",
    "\n",
    "print(classification_report(y_true,y_pred))"
   ]
  }
 ],
 "metadata": {
  "kernelspec": {
   "display_name": "pytorch_cuda_11_8",
   "language": "python",
   "name": "python3"
  },
  "language_info": {
   "codemirror_mode": {
    "name": "ipython",
    "version": 3
   },
   "file_extension": ".py",
   "mimetype": "text/x-python",
   "name": "python",
   "nbconvert_exporter": "python",
   "pygments_lexer": "ipython3",
   "version": "3.9.18"
  }
 },
 "nbformat": 4,
 "nbformat_minor": 2
}
